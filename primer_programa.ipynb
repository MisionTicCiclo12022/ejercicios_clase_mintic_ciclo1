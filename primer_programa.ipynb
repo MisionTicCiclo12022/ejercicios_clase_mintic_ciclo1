{
  "nbformat": 4,
  "nbformat_minor": 0,
  "metadata": {
    "colab": {
      "name": "primer_programa.ipynb",
      "provenance": [],
      "collapsed_sections": []
    },
    "kernelspec": {
      "name": "python3",
      "display_name": "Python 3"
    },
    "language_info": {
      "name": "python"
    }
  },
  "cells": [
    {
      "cell_type": "markdown",
      "source": [
        "**Clase 26 de mayo - funciones**"
      ],
      "metadata": {
        "id": "C3iTZu7S4p_c"
      }
    },
    {
      "cell_type": "code",
      "source": [
        "#sumar los n primero número naturales:\n",
        "n=10 #0+1+2+3+4+5+6+7+8+9+10=55\n",
        "def sumar_n_naturales(n_numeros):\n",
        "  suma=0\n",
        "  for numero in range(n_numeros+1):\n",
        "    suma+=numero\n",
        "  return suma\n",
        "print(sumar_n_naturales(n))"
      ],
      "metadata": {
        "colab": {
          "base_uri": "https://localhost:8080/"
        },
        "id": "L9Q9FkcNcb0c",
        "outputId": "1ce24ef6-8052-4371-d21c-7a648a923a35"
      },
      "execution_count": null,
      "outputs": [
        {
          "output_type": "stream",
          "name": "stdout",
          "text": [
            "55\n"
          ]
        }
      ]
    },
    {
      "cell_type": "code",
      "source": [
        ""
      ],
      "metadata": {
        "id": "SzLT0EJfmcx_"
      },
      "execution_count": null,
      "outputs": []
    },
    {
      "cell_type": "code",
      "source": [
        "#Recursión:\n",
        "def imprimir_saludo():\n",
        "  return \"Hola!!! \"\n",
        "\n",
        "def saludar(nombre):\n",
        "  #return imprimir_saludo()+nombre\n",
        "  retorno_otra_fun=imprimir_saludo()\n",
        "  return retorno_otra_fun + nombre\n",
        "\n",
        "n1=\"Daniel\"\n",
        "print(saludar(n1))"
      ],
      "metadata": {
        "colab": {
          "base_uri": "https://localhost:8080/"
        },
        "id": "Qsr0CAZeZXRB",
        "outputId": "85a636af-4ac4-449f-9ecb-af320b6c1e22"
      },
      "execution_count": null,
      "outputs": [
        {
          "output_type": "stream",
          "name": "stdout",
          "text": [
            "Hola!!! Daniel\n"
          ]
        }
      ]
    },
    {
      "cell_type": "code",
      "source": [
        "#Importar modulo propio:\n",
        "#import mi_primer_modulo as mp\n",
        "import matematicas\n",
        "from mi_primer_modulo import sumar\n",
        "import mi_primer_modulo\n",
        "#print(\"La suma de\",6,\"y\",7,\"es:\",mp.sumar(6,7))\n",
        "#print(\"La multiplicación de\",6,\"y\",7,\"es:\",mp.mulplicar(6,7))\n",
        "print(sumar(7,9))\n",
        "print(matematicas.dividir(9,3))\n",
        "print(dir(mi_primer_modulo))"
      ],
      "metadata": {
        "colab": {
          "base_uri": "https://localhost:8080/"
        },
        "id": "xX73F1PpO5tn",
        "outputId": "5f2c2b7f-9a3d-4ac5-c304-d97f658e2ac0"
      },
      "execution_count": null,
      "outputs": [
        {
          "output_type": "stream",
          "name": "stdout",
          "text": [
            "16\n",
            "3\n",
            "['__builtins__', '__cached__', '__doc__', '__file__', '__loader__', '__name__', '__package__', '__spec__', 'mulplicar', 'sumar']\n"
          ]
        }
      ]
    },
    {
      "cell_type": "code",
      "source": [
        "k=5 #Variable global\n",
        "def sumar(a,b):\n",
        "  global k\n",
        "  k=a+b #Nueva variable, local\n",
        "  return k\n",
        "print(\"k de arriba:\",k)\n",
        "print(sumar(7,6))\n",
        "print(\"k de abajo:\",k)"
      ],
      "metadata": {
        "colab": {
          "base_uri": "https://localhost:8080/"
        },
        "id": "6euADPV0JwwQ",
        "outputId": "3696dd16-825d-4ba3-a499-9c906cb6604e"
      },
      "execution_count": null,
      "outputs": [
        {
          "output_type": "stream",
          "name": "stdout",
          "text": [
            "k de arriba: 5\n",
            "13\n",
            "k de abajo: 13\n"
          ]
        }
      ]
    },
    {
      "cell_type": "markdown",
      "source": [
        "**Clase 25 de mayo - NUMPY matplotplib pandas y funciones**"
      ],
      "metadata": {
        "id": "_VicHeynJvvD"
      }
    },
    {
      "cell_type": "code",
      "source": [
        "def mulplicar_numeros(num, num2=10):\n",
        "  return num*num2\n",
        "\n",
        "print(mulplicar_numeros(5,3))"
      ],
      "metadata": {
        "colab": {
          "base_uri": "https://localhost:8080/"
        },
        "id": "cFgmeTiUO1X_",
        "outputId": "9502f767-17ef-4ff1-9381-40aff06488bf"
      },
      "execution_count": null,
      "outputs": [
        {
          "output_type": "stream",
          "name": "stdout",
          "text": [
            "15\n"
          ]
        }
      ]
    },
    {
      "cell_type": "code",
      "source": [
        "def saludar(nombre_parametro, p2):\n",
        "  return 'hola '+nombre_parametro+\" \"+p2\n",
        "\n",
        "nombre=input()\n",
        "print(saludar(nombre,\"cómo estás?\"))"
      ],
      "metadata": {
        "colab": {
          "base_uri": "https://localhost:8080/"
        },
        "id": "39VYRE0RNmRT",
        "outputId": "5f516400-b634-4d93-a778-cecc5c255252"
      },
      "execution_count": null,
      "outputs": [
        {
          "output_type": "stream",
          "name": "stdout",
          "text": [
            "Lina\n",
            "hola Lina cómo estás?\n"
          ]
        }
      ]
    },
    {
      "cell_type": "code",
      "source": [
        "import matplotlib.pyplot as plt\n",
        "nombres=[\"grupo_a\", \"grupo_b\", \"grupo_c\"]\n",
        "valores=[34.5, 50.3, 23]\n",
        "\n",
        "plt.figure(figsize=(9,3))\n",
        "\n",
        "plt.subplot(131)\n",
        "plt.bar(nombres, valores)\n",
        "plt.subplot(132)\n",
        "plt.scatter(nombres, valores)\n",
        "plt.subplot(133)\n",
        "plt.plot(nombres, valores)\n",
        "plt.suptitle(\"Diferentes graficad\")\n",
        "plt.show()\n"
      ],
      "metadata": {
        "colab": {
          "base_uri": "https://localhost:8080/",
          "height": 233
        },
        "id": "PyMIi-tLGp5t",
        "outputId": "29ab368f-d193-41fb-a0ab-b56114b87a97"
      },
      "execution_count": null,
      "outputs": [
        {
          "output_type": "display_data",
          "data": {
            "text/plain": [
              "<Figure size 648x216 with 3 Axes>"
            ],
            "image/png": "[encoded data removed]"
          },
          "metadata": {
            "needs_background": "light"
          }
        }
      ]
    },
    {
      "cell_type": "code",
      "source": [
        "import numpy as np\n",
        "import matplotlib.pyplot as plt\n",
        "\n",
        "x = np.linspace(0,2,50)\n",
        "#print(x)\n",
        "fig, ax=plt.subplots()\n",
        "ax.plot(x,x, label=\"Lineal\")\n",
        "ax.plot(x,x**2, label=\"cuadratica\")\n",
        "ax.plot(x, x**3, label=\"cubica\")\n",
        "ax.set_xlabel(\"eje X\")\n",
        "ax.set_ylabel(\"eje Y\")\n",
        "ax.set_title(\"Gráfica matemática\")\n",
        "ax.legend()"
      ],
      "metadata": {
        "colab": {
          "base_uri": "https://localhost:8080/",
          "height": 312
        },
        "id": "kcdkvv7EDdzr",
        "outputId": "19297fc7-7cf9-4a73-a4e1-6df0762ae005"
      },
      "execution_count": null,
      "outputs": [
        {
          "output_type": "execute_result",
          "data": {
            "text/plain": [
              "<matplotlib.legend.Legend at 0x7ff89a1e3a90>"
            ]
          },
          "metadata": {},
          "execution_count": 17
        },
        {
          "output_type": "display_data",
          "data": {
            "text/plain": [
              "<Figure size 432x288 with 1 Axes>"
            ],
            "image/png": "[encoded data removed]"
          },
          "metadata": {
            "needs_background": "light"
          }
        }
      ]
    },
    {
      "cell_type": "code",
      "source": [
        "#Matplotlib:\n",
        "import matplotlib.pyplot as plt\n",
        "plt.plot([1,2,3,4],[1,4,2,3])"
      ],
      "metadata": {
        "colab": {
          "base_uri": "https://localhost:8080/",
          "height": 282
        },
        "id": "7Gdwhp6bCto_",
        "outputId": "977657b9-5e26-4d8f-c60c-e4b577c91ed7"
      },
      "execution_count": null,
      "outputs": [
        {
          "output_type": "execute_result",
          "data": {
            "text/plain": [
              "[<matplotlib.lines.Line2D at 0x7ff89af9efd0>]"
            ]
          },
          "metadata": {},
          "execution_count": 9
        },
        {
          "output_type": "display_data",
          "data": {
            "text/plain": [
              "<Figure size 432x288 with 1 Axes>"
            ],
            "image/png": "[encoded data removed]"
          },
          "metadata": {
            "needs_background": "light"
          }
        }
      ]
    },
    {
      "cell_type": "code",
      "source": [
        "#Numpy\n",
        "import numpy as np\n",
        "\n",
        "x =np.array([5,-4])\n",
        "y =np.array([3,5])\n",
        "print(x)\n",
        "print(y)\n",
        "suma=x+y\n",
        "print(\"_____________\")\n",
        "print(suma)"
      ],
      "metadata": {
        "colab": {
          "base_uri": "https://localhost:8080/"
        },
        "id": "jl3oL8N2_2He",
        "outputId": "b123ccf3-9e5d-4c35-ee9a-367a95cf5210"
      },
      "execution_count": null,
      "outputs": [
        {
          "output_type": "stream",
          "name": "stdout",
          "text": [
            "[ 5 -4]\n",
            "[3 5]\n",
            "_____________\n",
            "[8 1]\n"
          ]
        }
      ]
    },
    {
      "cell_type": "markdown",
      "source": [
        "**Clase 23 de mayo - excepciones y NUMPY**"
      ],
      "metadata": {
        "id": "lCezHT6w_5Q5"
      }
    },
    {
      "cell_type": "code",
      "source": [
        "#Identificar edades que sólo están en la primer lista:\n",
        "#edad_lista_1=[20,18,28,30,50]\n",
        "#edad_lista_2=[20,32,40,28,50]\n",
        "\n",
        "\n",
        "def edades_diferentes(lista1, lista2):\n",
        "  dif_lista=[]\n",
        "  for elemento in lista1:\n",
        "    if elemento not in lista2:\n",
        "      dif_lista.append(elemento)\n",
        "  return dif_lista\n",
        "\n",
        "#print(edades_diferentes(edad_lista_1, edad_lista_2))\n",
        "\n"
      ],
      "metadata": {
        "colab": {
          "base_uri": "https://localhost:8080/"
        },
        "id": "g2MF4VY-_JH2",
        "outputId": "49a96b33-cd16-416e-e900-276b15696323"
      },
      "execution_count": null,
      "outputs": [
        {
          "output_type": "stream",
          "name": "stdout",
          "text": [
            "[18, 30]\n"
          ]
        }
      ]
    },
    {
      "cell_type": "code",
      "source": [
        "#Uso de numpy:\n",
        "import numpy as np\n",
        "a=np.array(list(range(1,5)))\n",
        "#print(a)\n",
        "print(a.shape)\n",
        "#print(a[3])\n",
        "\n",
        "b=np.array([[1,2,3],\n",
        "            [4,5,6]])\n",
        "print(b.shape)"
      ],
      "metadata": {
        "colab": {
          "base_uri": "https://localhost:8080/"
        },
        "id": "cHTrk1Fj9GRb",
        "outputId": "68dd2305-20aa-4cab-c7da-342718b9d173"
      },
      "execution_count": null,
      "outputs": [
        {
          "output_type": "stream",
          "name": "stdout",
          "text": [
            "(4,)\n",
            "(2, 3)\n"
          ]
        }
      ]
    },
    {
      "cell_type": "code",
      "source": [
        "def division(a,b):\n",
        "  if a==0:\n",
        "    raise ZeroDivisionError(\"Error denominador es cero\")\n",
        "  else:\n",
        "    coci=a//b\n",
        "    resi=a%b\n",
        "    return [coci, resi]\n",
        "\n",
        "try:\n",
        "  print(division(10,0))\n",
        "except Exception as e:\n",
        "  print(type(e))\n",
        "\n"
      ],
      "metadata": {
        "colab": {
          "base_uri": "https://localhost:8080/"
        },
        "id": "RJ7rAK_f6G8j",
        "outputId": "486cc859-5e03-4222-8783-c0f9bc2d7b06"
      },
      "execution_count": null,
      "outputs": [
        {
          "output_type": "stream",
          "name": "stdout",
          "text": [
            "<class 'ZeroDivisionError'>\n"
          ]
        }
      ]
    },
    {
      "cell_type": "code",
      "source": [
        "try:\n",
        "  num=int(input(\"digite un numero: \"))\n",
        "  res=100/num\n",
        "  print(res)\n",
        "except Exception as exc:\n",
        "  print(\"tipo de excepción es: \",type(exc))"
      ],
      "metadata": {
        "colab": {
          "base_uri": "https://localhost:8080/"
        },
        "id": "BLpIDHmqthVM",
        "outputId": "535388d1-ddf3-43f6-a586-51b69a5722ae"
      },
      "execution_count": null,
      "outputs": [
        {
          "output_type": "stream",
          "name": "stdout",
          "text": [
            "digite un numero: 0\n",
            "tipo de excepción es:  <class 'ZeroDivisionError'>\n"
          ]
        }
      ]
    },
    {
      "cell_type": "code",
      "source": [
        "def main():\n",
        "  try:\n",
        "    num=int(input(\"Digite el numerador: \"))\n",
        "    den=int(input(\"Digite el denominador: \"))\n",
        "    print(division(num, den))\n",
        "  except ValueError:\n",
        "    print(\"Error en el numero ingresado, NO ES UN NÚMERO\")\n",
        "\n",
        "main()\n",
        "\n",
        "def division(a,b):\n",
        "  try:\n",
        "    coc=a//b\n",
        "    res=a%b\n",
        "    return (coc, res)\n",
        "  except:\n",
        "    #print(\"Error division por cero no es posible\")\n",
        "    #return \"Error division por cero no es posible\"\n",
        "    print(imprimir_pantalla(\"Error\"))\n",
        "\n",
        "\n",
        "def imprimir_pantalla(str_mensaje):\n",
        "  if str_mensaje == \"Error\":\n",
        "    return \"Error division por cero no es posible\"\n",
        "  else:\n",
        "    return \"Todo bien\"\n"
      ],
      "metadata": {
        "colab": {
          "base_uri": "https://localhost:8080/"
        },
        "id": "HfTW7WRusGxA",
        "outputId": "54e3fa01-bf9b-465a-ebf1-1391eb507faf"
      },
      "execution_count": null,
      "outputs": [
        {
          "output_type": "stream",
          "name": "stdout",
          "text": [
            "Digite el numerador: SEIS\n",
            "Error en el numero ingresado, NO ES UN NÚMERO\n"
          ]
        }
      ]
    },
    {
      "cell_type": "markdown",
      "source": [
        "**Clase 19 de mayo - Archivos y JSON**"
      ],
      "metadata": {
        "id": "-F1WK4Szr_FD"
      }
    },
    {
      "cell_type": "code",
      "source": [
        "#Ejercicio ir al supermercado\n",
        "productos={\"huevos\":600, \"arroz\":2000, \"carne\":15000, \"aceite\":30000,\n",
        "           \"cebolla\":3000, \"tomate\":3500}\n",
        "lista_compra=[\"arroz\",\"carne\",\"cebolla\",\"pimienta\"]\n",
        "#Cuánto costó lo que compré\n",
        "#Qué compré\n",
        "costo=0\n",
        "lista_adquirida=[]\n",
        "for mi_articulo in lista_compra:\n",
        "  if mi_articulo in productos:\n",
        "    costo=costo+productos[mi_articulo]\n",
        "    lista_adquirida.append(mi_articulo)\n",
        "\n",
        "print(costo)\n",
        "print(lista_adquirida)\n"
      ],
      "metadata": {
        "colab": {
          "base_uri": "https://localhost:8080/"
        },
        "id": "MvHyOQPgWpV8",
        "outputId": "ffa494e8-5b2a-494b-841b-b0dc2b68585c"
      },
      "execution_count": null,
      "outputs": [
        {
          "output_type": "stream",
          "name": "stdout",
          "text": [
            "20000\n",
            "['arroz', 'carne', 'cebolla']\n"
          ]
        }
      ]
    },
    {
      "cell_type": "code",
      "source": [
        "#Convertir de string a json (diccionario)\n",
        "import json\n",
        "string_json='{\"cascada\": 65058, \"escalada\": 71609, \"zoo\": 95127, \"caminata_aire_libre\": 54215, \"caminata_rio\": 62265, \"cabalgata\": 59980, \"desayuno\": 74333}'\n",
        "json_original=json.loads(string_json)\n",
        "print(type(json_original))\n",
        "print(json_original[\"escalada\"])"
      ],
      "metadata": {
        "colab": {
          "base_uri": "https://localhost:8080/"
        },
        "id": "yu7APr-zVCFm",
        "outputId": "f51c88e0-fca2-4b3b-97ce-0dda9233ce13"
      },
      "execution_count": null,
      "outputs": [
        {
          "output_type": "stream",
          "name": "stdout",
          "text": [
            "<class 'dict'>\n",
            "71609\n"
          ]
        }
      ]
    },
    {
      "cell_type": "code",
      "source": [
        "#Guardar json\n",
        "import json\n",
        "\n",
        "data={\n",
        "    \"cientifico\":{\n",
        "        \"nombre\":\"Alan Mathison\",\n",
        "        \"edad\":41\n",
        "    }\n",
        "}\n",
        "\n",
        "with open(\"json/file_json.json\", \"w\") as f:\n",
        "  json.dump(data, f)\n",
        "\n",
        "json_string=json.dumps(data)\n",
        "print(data)\n",
        "print(json_string)\n",
        "print(type(data))\n",
        "print(type(json_string))"
      ],
      "metadata": {
        "colab": {
          "base_uri": "https://localhost:8080/"
        },
        "id": "FYYt0dQmTFg9",
        "outputId": "084123bd-b065-424f-c058-5b60d041d114"
      },
      "execution_count": null,
      "outputs": [
        {
          "output_type": "stream",
          "name": "stdout",
          "text": [
            "{'cientifico': {'nombre': 'Alan Mathison', 'edad': 41}}\n",
            "{\"cientifico\": {\"nombre\": \"Alan Mathison\", \"edad\": 41}}\n",
            "<class 'dict'>\n",
            "<class 'str'>\n"
          ]
        }
      ]
    },
    {
      "cell_type": "code",
      "source": [
        "#Ejemplo JSON:\n",
        "mi_primer_json={\"nombre\":\"Daniel\",\n",
        " \"apellido\":\"Salazar\", \n",
        " \"edad\":28, \n",
        " \"documento\":10221111\n",
        "}"
      ],
      "metadata": {
        "id": "dnPbJgjTLSBO"
      },
      "execution_count": null,
      "outputs": []
    },
    {
      "cell_type": "code",
      "source": [
        "#Cargar estructuras de datos desde archivos .pkl\n",
        "import pickle\n",
        "with open(\"files/documento.pkl\", \"rb\") as p_file:\n",
        "  objeto_1=pickle.load(p_file)\n",
        "  lista_2=pickle.load(p_file)\n",
        "  dicc=pickle.load(p_file)\n",
        "\n",
        "print(type(objeto_1))\n",
        "print(lista_2)\n",
        "print(type(dicc))"
      ],
      "metadata": {
        "colab": {
          "base_uri": "https://localhost:8080/"
        },
        "id": "DRPpYCbXHFBk",
        "outputId": "46daab3d-f63c-4194-b4b8-efe18fd0e80a"
      },
      "execution_count": null,
      "outputs": [
        {
          "output_type": "stream",
          "name": "stdout",
          "text": [
            "<class 'list'>\n",
            "['Daniel', 'Kevin', 'Luisa']\n",
            "<class 'dict'>\n"
          ]
        }
      ]
    },
    {
      "cell_type": "code",
      "source": [
        "#Cargar todos los archivos de una carpeta\n",
        "#import os\n",
        "#archivos=os.scandir('files/')\n",
        "\n",
        "#for archivo in archivos:\n",
        "#  print(archivo.name)\n",
        "\n",
        "#Guardar estructuras de datos en archivos .pkl\n",
        "import pickle\n",
        "documentos=[\"12345\",\"12456A\",\"12345B\"]\n",
        "nombres=[\"Daniel\", \"Kevin\", \"Luisa\"]\n",
        "dicc=dict([(k,v) for k,v in zip(documentos,nombres)])\n",
        "\n",
        "with open(\"files/documento.pkl\", \"wb\") as p_file:\n",
        "  pickle.dump(documentos, p_file)\n",
        "  pickle.dump(nombres, p_file)\n",
        "  pickle.dump(dicc, p_file)\n"
      ],
      "metadata": {
        "id": "E5v708E9BUHg"
      },
      "execution_count": null,
      "outputs": []
    },
    {
      "cell_type": "markdown",
      "source": [
        "**Clase 18 de mayo - Archivos**"
      ],
      "metadata": {
        "id": "-BRDsKfLBHcz"
      }
    },
    {
      "cell_type": "code",
      "source": [
        "#Leer archivo\n",
        "#with open('files/data.txt', 'r') as f:\n",
        "#  datax=f.read()\n",
        "#  print(datax)\n",
        "\n",
        "#Escribir en un archivo 'w' (reemplaza)\n",
        "#with open('files/wdata.txt', 'w') as f:\n",
        "#  data=\"@ 7x1=7, 77=49... gr36\\n\"\n",
        "#  f.write(data)\n",
        "#  f.write(data)\n",
        "#  f.write(data)\n",
        "\n",
        "#Escribir en un archivo 'a' (sin reemplazar)\n",
        "#with open('files/wdata.txt', 'a') as f:\n",
        "#  data = \"Somos el mejor grupo de programación G36\\n\"\n",
        "#  f.write(data)\n",
        "#  f.write(data)\n",
        "#  f.write(data)\n",
        "\n",
        "#Leer con caracteres especiales: encoding\n",
        "#with open('files/data1.txt', 'r', encoding=\"utf-8\") as f:\n",
        "#  print(f.read())\n",
        "\n",
        "#Leer byte a byte\n",
        "#with open('files/data1.txt', 'r') as f:\n",
        "  #linea1=f.read(6)\n",
        "  #linea2=f.read(10)\n",
        "\n",
        "#print(linea1)\n",
        "#print(linea2)\n",
        "\n",
        "#Leer línea a línea\n",
        "#with open('files/data1.txt', 'r') as f:\n",
        "#  linea1=f.readline()\n",
        "#  linea2=f.readline()\n",
        "#print(linea1, end=\"\")\n",
        "#print(linea2, end=\"\")\n",
        "\n",
        "#Leer líneas como lista en python\n",
        "#with open('files/data1.txt', 'r') as f:\n",
        "#  print(\"nombre del archivo=\",f.name)\n",
        "#  lista=f.readlines()\n",
        "#print(lista)\n",
        "\n",
        "#Iterar linea a linea (eficiente)\n",
        "#with open('files/data1.txt', 'r') as f:\n",
        "#  for linea in f:\n",
        "#    print(type(linea))\n",
        "#    print(linea, end=\"\")\n",
        "\n",
        "#a+\n",
        "#with open('files/data2.txt', 'a+') as f:\n",
        "#  f.write(\"\\nGrupo 36 ya acabó el reto 4\")\n",
        "\n",
        "#Guardar numero:\n",
        "#valores=[1234,5678,9012,3.14159265,False]\n",
        "#with open('files/data3.txt', 'w+') as f:\n",
        "#  for valor in valores:\n",
        "#    string_valor=str(valor)\n",
        "#    f.write(string_valor)\n",
        "#    f.write(\"\\n\")\n",
        "\n",
        "#Pararnos en posición específica (seek)\n",
        "#with open('files/data4.txt', 'r') as f:\n",
        "#  f.seek(11,0)\n",
        "#  for linea in f:\n",
        "#    print(linea, end=\"\")\n",
        "\n",
        "with open('files/data4.txt', 'a+') as f:\n",
        "  print(f.tell())\n"
      ],
      "metadata": {
        "colab": {
          "base_uri": "https://localhost:8080/"
        },
        "id": "6Pc52oBloPep",
        "outputId": "ebfb3963-292c-4caa-e908-999f2101c1c3"
      },
      "execution_count": null,
      "outputs": [
        {
          "output_type": "stream",
          "name": "stdout",
          "text": [
            "31\n"
          ]
        }
      ]
    },
    {
      "cell_type": "markdown",
      "source": [
        "**Clase 17 de mayo - Diccionarios**"
      ],
      "metadata": {
        "id": "ZkktFgUXwJ1K"
      }
    },
    {
      "cell_type": "code",
      "source": [
        "#Más metodos de diccionarios:\n",
        "informacion_personal_dic={12345:\"Daniel\", 12346:\"Jose\", 12347:\"Laura\"}\n",
        "informacion_personal_dic_2=informacion_personal_dic.copy()\n",
        "informacion_personal_dic_2[12347]=\"Lina\"\n",
        "print(informacion_personal_dic)\n",
        "print(informacion_personal_dic_2)"
      ],
      "metadata": {
        "colab": {
          "base_uri": "https://localhost:8080/"
        },
        "id": "1Qz5X-JUB-b0",
        "outputId": "77a28121-3512-4e30-93cc-101847ed7be5"
      },
      "execution_count": null,
      "outputs": [
        {
          "output_type": "stream",
          "name": "stdout",
          "text": [
            "{12345: 'Daniel', 12346: 'Jose', 12347: 'Laura'}\n",
            "{12345: 'Daniel', 12346: 'Jose', 12347: 'Lina'}\n"
          ]
        }
      ]
    },
    {
      "cell_type": "code",
      "source": [
        "a=\"hola\"\n",
        "b=a\n",
        "a=\"papá\"\n",
        "print(a)\n",
        "print(b)"
      ],
      "metadata": {
        "colab": {
          "base_uri": "https://localhost:8080/"
        },
        "id": "nZtmFuisCYfF",
        "outputId": "66692ab6-aea1-42b3-a568-1bf1550154bc"
      },
      "execution_count": null,
      "outputs": [
        {
          "output_type": "stream",
          "name": "stdout",
          "text": [
            "papá\n",
            "hola\n"
          ]
        }
      ]
    },
    {
      "cell_type": "code",
      "source": [
        "#Operaciones diccionario:\n",
        "#{\"escalada\": 43512, \"bungee_jumping\": 79059, \"dia_de_playa\": 79334, \"lago\": 81467, \"cabalgata\": 83709}\n",
        "import json\n",
        "\n",
        "entrada=input()\n",
        "entrada_dicc=json.loads(entrada)\n",
        "print(entrada_dicc['bungee_jumping'])"
      ],
      "metadata": {
        "colab": {
          "base_uri": "https://localhost:8080/"
        },
        "id": "aCiFnF-W_WoY",
        "outputId": "09eca6c1-4aed-4a3d-dde0-44ad82aa5763"
      },
      "execution_count": null,
      "outputs": [
        {
          "output_type": "stream",
          "name": "stdout",
          "text": [
            "{\"escalada\": 43512, \"bungee_jumping\": 79059, \"dia_de_playa\": 79334, \"lago\": 81467, \"cabalgata\": 83709}\n",
            "79059\n"
          ]
        }
      ]
    },
    {
      "cell_type": "code",
      "source": [
        "#Metodos diccionarios:\n",
        "informacion_personal_dic={12345:\"Daniel\", 12346:\"Jose\", 12347:\"Laura\"}\n",
        "#print(len(informacion_personal_dic))\n",
        "print(informacion_personal_dic.get(12348, \"clave no encontrada\"))\n",
        "print(informacion_personal_dic[12347])\n",
        "\n",
        "lista_claves=list(informacion_personal_dic.keys())\n",
        "lista_valores=list(informacion_personal_dic.values())\n",
        "\n",
        "print(lista_claves)\n",
        "print(lista_valores)\n",
        "\n"
      ],
      "metadata": {
        "colab": {
          "base_uri": "https://localhost:8080/"
        },
        "id": "TSXxWz252lVM",
        "outputId": "5a2f79a3-e354-4c00-8f51-c5df8c8397bd"
      },
      "execution_count": null,
      "outputs": [
        {
          "output_type": "stream",
          "name": "stdout",
          "text": [
            "clave no encontrada\n",
            "Laura\n",
            "[12345, 12346, 12347]\n",
            "['Daniel', 'Jose', 'Laura']\n"
          ]
        }
      ]
    },
    {
      "cell_type": "code",
      "source": [
        "informacion_personal_dic={12345:[\"Daniel\",\"Ingeniero\"], 12346:[\"Jose\",\"Doctor\"], 12347:[\"Laura\",\"Abogado\"]}\n",
        "#informacion_personal_dic[12346][1]=\"Magister\"\n",
        "informacion_personal_dic[12346]=[\"Jose\", \"Magister\"]\n",
        "for clave in informacion_personal_dic:\n",
        "  print(clave, informacion_personal_dic[clave])\n",
        "print()\n",
        "claves_lista=[]\n",
        "valores_lista=[]\n",
        "for clave, valor in informacion_personal_dic.items():\n",
        "  print(clave, valor)\n",
        "  claves_lista.append(clave)\n",
        "  valores_lista.append(valor)\n",
        "\n",
        "print(claves_lista)\n",
        "print(valores_lista)\n",
        "print()\n",
        "print(informacion_personal_dic.values())\n",
        "print(informacion_personal_dic.keys())\n",
        "print(informacion_personal_dic.items())\n",
        "\n",
        "\n",
        "\n",
        "\n",
        "\n"
      ],
      "metadata": {
        "colab": {
          "base_uri": "https://localhost:8080/"
        },
        "id": "NwGJ7p59uIcX",
        "outputId": "89ea6f56-3c0a-4c13-858d-ef0fa661536d"
      },
      "execution_count": null,
      "outputs": [
        {
          "output_type": "stream",
          "name": "stdout",
          "text": [
            "12345 ['Daniel', 'Ingeniero']\n",
            "12346 ['Jose', 'Magister']\n",
            "12347 ['Laura', 'Abogado']\n",
            "\n",
            "12345 ['Daniel', 'Ingeniero']\n",
            "12346 ['Jose', 'Magister']\n",
            "12347 ['Laura', 'Abogado']\n",
            "[12345, 12346, 12347]\n",
            "[['Daniel', 'Ingeniero'], ['Jose', 'Magister'], ['Laura', 'Abogado']]\n",
            "\n",
            "dict_values([['Daniel', 'Ingeniero'], ['Jose', 'Magister'], ['Laura', 'Abogado']])\n"
          ]
        }
      ]
    },
    {
      "cell_type": "markdown",
      "source": [
        "**Clase 16 de mayo - Diccionarios**"
      ],
      "metadata": {
        "id": "m8xbSttMuF3I"
      }
    },
    {
      "cell_type": "code",
      "source": [
        "#Ejemplo litas\n",
        "lista_tel=[46441, 46442]\n",
        "lista_nombres=[\"Daniel Salazar\", \"Jose Mora\"]\n",
        "\n",
        "def agregar(lista, dato):\n",
        "  lista.append(dato)\n",
        "  return lista\n",
        "\n",
        "def eliminar(lista, dato):\n",
        "  lista.remove(dato)\n",
        "  return lista\n",
        "\n",
        "def actualizar(lista, pos, dato):\n",
        "  lista[pos]=dato\n",
        "  return lista\n",
        "\n",
        "\n",
        "nuevo_tel_1=46443\n",
        "nuevo_nom_1=\"Lina\"\n",
        "\n",
        "x=agregar(lista_tel, nuevo_tel_1)\n",
        "y=agregar(lista_nombres, nuevo_nom_1)\n",
        "print(\"agrega =\",lista_tel)\n",
        "print(\"agrega =\",lista_nombres)\n",
        "\n",
        "\n",
        "eliminar(lista_tel, 46442)\n",
        "eliminar(lista_nombres, \"Jose Mora\")\n",
        "print(\"elimina =\",lista_tel)\n",
        "print(\"elimina =\", lista_nombres)\n",
        "\n",
        "actualizar(lista_tel, 1, 46452)\n",
        "actualizar(lista_nombres, 1, \"Lina Casas\")\n",
        "print(\"actualizar =\",lista_tel)\n",
        "print(\"actualizar =\", lista_nombres)\n"
      ],
      "metadata": {
        "colab": {
          "base_uri": "https://localhost:8080/"
        },
        "id": "WHfXSnU8w9dg",
        "outputId": "94499200-4276-4ebd-ace3-223c2eeb5cdc"
      },
      "execution_count": null,
      "outputs": [
        {
          "output_type": "stream",
          "name": "stdout",
          "text": [
            "agrega = [46441, 46442, 46443]\n",
            "agrega = ['Daniel Salazar', 'Jose Mora', 'Lina']\n",
            "elimina = [46441, 46443]\n",
            "elimina = ['Daniel Salazar', 'Lina']\n",
            "actualizar = [46441, 46452]\n",
            "actualizar = ['Daniel Salazar', 'Lina Casas']\n"
          ]
        }
      ]
    },
    {
      "cell_type": "code",
      "source": [
        "#banco_dicc={\"00340-123-451\":[150000,\"16-05-2022\",30000], \"0015-64564\":[130000,\"16-05-2022\",50000]}\n",
        "mi_primer_dicc={46441:\"Daniel Salazar\", 46442:\"Jose Mora\", 46443:\"Lina\"}\n",
        "mi_primer_dicc[46442]=\"Laura Camila\"\n",
        "mi_primer_dicc[46444]=\"Jose Mora\"\n",
        "del mi_primer_dicc[46444]\n",
        "print(mi_primer_dicc)\n",
        "print(mi_primer_dicc[46442])\n",
        "\n",
        "print(\"\\nciclo for\")\n",
        "for clave in mi_primer_dicc:\n",
        "  print(clave, mi_primer_dicc[clave])\n",
        "  if 46443 in mi_primer_dicc:\n",
        "    print(\"la contiene\")\n"
      ],
      "metadata": {
        "colab": {
          "base_uri": "https://localhost:8080/"
        },
        "id": "VU0s1-B2U34t",
        "outputId": "14f76434-cc21-4e7b-f5db-5a5a88a44d41"
      },
      "execution_count": null,
      "outputs": [
        {
          "output_type": "stream",
          "name": "stdout",
          "text": [
            "{46441: 'Daniel Salazar', 46442: 'Laura Camila', 46443: 'Lina'}\n",
            "Laura Camila\n",
            "\n",
            "ciclo for\n",
            "46441 Daniel Salazar\n",
            "la contiene\n",
            "46442 Laura Camila\n",
            "la contiene\n",
            "46443 Lina\n",
            "la contiene\n"
          ]
        }
      ]
    },
    {
      "cell_type": "markdown",
      "source": [
        "**Clase 1 de mayo - LISTAS y Arreglos**"
      ],
      "metadata": {
        "id": "3VWZCnoQq5K9"
      }
    },
    {
      "cell_type": "code",
      "source": [
        "#Matrices\n",
        "arreglo=[1,2,3]\n",
        "matriz=[[1,2,3],[4,5,6],[7,8,9], [10,11,12]]\n",
        "print(matriz[1][1])\n",
        "print(matriz[2][1])\n",
        "print(matriz[0][2])"
      ],
      "metadata": {
        "colab": {
          "base_uri": "https://localhost:8080/"
        },
        "id": "p2TdeiT0TN25",
        "outputId": "0b9f782b-f483-475d-ffe5-6414b4a7f5b0"
      },
      "execution_count": null,
      "outputs": [
        {
          "output_type": "stream",
          "name": "stdout",
          "text": [
            "5\n",
            "8\n",
            "3\n"
          ]
        }
      ]
    },
    {
      "cell_type": "code",
      "source": [
        "#Arreglos\n",
        "''' def pos_maximo(A):\n",
        "  m = 0\n",
        "  for i in range(1,len(A)):\n",
        "    if A[i]>A[m]:\n",
        "      m =i\n",
        "  return m\n",
        "print(pos_maximo([1,-3, 4,11,6])) '''\n",
        "\n",
        "arreglo=[1,-3, 4,11,6]\n",
        "el_mayor=max(arreglo)\n",
        "print(arreglo.index(el_mayor))\n"
      ],
      "metadata": {
        "colab": {
          "base_uri": "https://localhost:8080/"
        },
        "id": "FheVZKhLMKRH",
        "outputId": "0a11cb6b-bf26-4024-f13f-61e5c65cd504"
      },
      "execution_count": null,
      "outputs": [
        {
          "output_type": "stream",
          "name": "stdout",
          "text": [
            "3\n"
          ]
        }
      ]
    },
    {
      "cell_type": "code",
      "source": [
        "#Métodos de las listas\n",
        "lista_letras=[\"D\", \"B\", \"C\", \"A\"]\n",
        "print(\"cantidad elementos\",len(lista_letras)) #Retorna la cantidad de elementos\n",
        "lista_letras[2]=\"CH\" #Reemplazar un elemento de la lista\n",
        "lista_letras.append(\"b\") #Adicionar un nuevo elemento a la lista, por detrás\n",
        "lista_letras.insert(2, \"C\") # Agragar un elemento en la posición específica\n",
        "lista_letras.remove(\"CH\") # Eliminar la primer ocurrencia del elemento solicitado\n",
        "print(\"slice\",lista_letras[0:3]) # Permite obtener una sublista sin modificar la lista original (Slice)\n",
        "print(\"count\",lista_letras.count(\"D\")) # Contar cuántos elementos hay en una lista el elemento buscado\n",
        "print(\"index\",lista_letras.index(\"A\")) # Retorna el índice del elemento buscado\n",
        "print(\"max\", max(lista_letras)) # Retorna el mayor elemento de la lista\n",
        "print(\"min\", min(lista_letras)) # Retorna el menor elemento de la lista\n",
        "print(lista_letras)\n",
        "\n",
        "print(\"ordenada menor a mayor\",lista_letras.sort()) # Ordenar los elementos de menor a mayor\n",
        "print(\"ordenada MAYOR a MENOR\",lista_letras.sort(reverse=True)) # Ordenar los elementos de mayor a menor\n",
        "string_1=\"HOLA\"\n",
        "lista_2=list(string_1) # Convertir a lista\n",
        "print(\"El string hecho lista\",lista_2)\n",
        "#print(\"eliminación index\",lista_letras.pop(0))\n",
        "elemento_eliminado=lista_letras.pop(0) # Elimina el elemento en el indice especificado\n",
        "print(\"Lista final\",lista_letras)\n",
        "print(\"elemento_eliminado\", elemento_eliminado)\n",
        "\n",
        "\n"
      ],
      "metadata": {
        "colab": {
          "base_uri": "https://localhost:8080/"
        },
        "id": "UKrucglR9dPq",
        "outputId": "0267e732-ba72-4a8d-dad0-044ce00c46b2"
      },
      "execution_count": null,
      "outputs": [
        {
          "output_type": "stream",
          "name": "stdout",
          "text": [
            "cantidad elementos 4\n",
            "slice ['D', 'B', 'C']\n",
            "count 1\n",
            "index 3\n",
            "max b\n",
            "min A\n",
            "['D', 'B', 'C', 'A', 'b']\n",
            "ordenada menor a mayor None\n",
            "ordenada MAYOR a MENOR None\n",
            "El string hecho lista ['H', 'O', 'L', 'A']\n",
            "Lista final ['D', 'C', 'B', 'A']\n",
            "elemento_eliminado b\n"
          ]
        }
      ]
    },
    {
      "cell_type": "markdown",
      "source": [
        "**Clase 11 de mayo - LISTAS**"
      ],
      "metadata": {
        "id": "aJVx940t9TYB"
      }
    },
    {
      "cell_type": "code",
      "source": [
        "lista_nombre=[\"Daniel\", \"Mar\", \"Laura\", \"Lina\"]\n",
        "lista_edades=[28, 25, 35, 26]\n",
        "lista_nombre.insert(1,\"Jhon\")\n",
        "lista_nombre.insert(3,\"Jhon\")\n",
        "#print(lista_nombre)\n",
        "#lista_nombre.remove(\"Jhon\")\n",
        "\n",
        "k=lista_nombre[:3]\n",
        "\n",
        "print(lista_nombre)\n",
        "#print(lista_nombre.count(\"Jhon\"))\n",
        "#print(max(lista_nombre))\n",
        "lista_nombre.pop()\n",
        "print(lista_nombre)\n",
        "\n",
        "\n",
        "\n"
      ],
      "metadata": {
        "colab": {
          "base_uri": "https://localhost:8080/"
        },
        "id": "nRzXS6F57j7-",
        "outputId": "198837d7-822b-4279-b165-93cecdfd2b8f"
      },
      "execution_count": null,
      "outputs": [
        {
          "output_type": "stream",
          "name": "stdout",
          "text": [
            "['Daniel', 'Jhon', 'Mar', 'Jhon', 'Laura', 'Lina']\n",
            "['Daniel', 'Jhon', 'Mar', 'Jhon', 'Laura']\n"
          ]
        }
      ]
    },
    {
      "cell_type": "code",
      "source": [
        "lista_frutas_y_verduras = ['Maracuyá','Pera','Mora','Yuca','Papa','Platano']\n",
        "def dividir_lista(a_list):\n",
        "    half = len(a_list)//2\n",
        "    return a_list[:half], a_list[half:]\n",
        "lista_de_fruta, lista_de_verdura = dividir_lista(lista_frutas_y_verduras)\n",
        "print(\"Lista de Fruta: \" ,lista_de_fruta)\n",
        "print(\"Lista de Verdura: \" ,lista_de_verdura)"
      ],
      "metadata": {
        "id": "FgOIZ3Cm41rz"
      },
      "execution_count": null,
      "outputs": []
    },
    {
      "cell_type": "code",
      "source": [
        "def frutas_y_verduras(lista_de_alimentos, lista_que_define):\n",
        "  frutas = []\n",
        "  verduras = []\n",
        "  \n",
        "  for alimento in range(len(lista_de_alimentos)):\n",
        "    if lista_que_define[alimento] == \"f\":\n",
        "      frutas.append(lista_de_alimentos[alimento])\n",
        "    else:\n",
        "      verduras.append(lista_de_alimentos[alimento])\n",
        "  \n",
        "  return frutas, verduras\n",
        "\n",
        "lista_frutas_verduras = [\"Brocoli\", \"Pimenton\", \"Zanahoria\", \"Banano\", \"Manzana\", \"Mora\"]\n",
        "lista = [\"v\", \"v\", \"v\", \"f\", \"f\", \"f\"]\n",
        "fruta, verdura = frutas_y_verduras(lista_frutas_verduras, lista)\n",
        "print(\"Las frutas son:\", fruta)\n",
        "print(\"Las verduras son:\", verdura)"
      ],
      "metadata": {
        "colab": {
          "base_uri": "https://localhost:8080/"
        },
        "id": "Z7Y9GUqV1Gan",
        "outputId": "07c10447-fbab-4b72-bed1-6bced3367f28"
      },
      "execution_count": null,
      "outputs": [
        {
          "output_type": "stream",
          "name": "stdout",
          "text": [
            "Las frutas son: ['Banano', 'Manzana', 'Mora']\n",
            "Las verduras son: ['Brocoli', 'Pimenton', 'Zanahoria']\n"
          ]
        }
      ]
    },
    {
      "cell_type": "markdown",
      "source": [
        "**Clase 10 de mayo - tuplas Y LISTAS**"
      ],
      "metadata": {
        "id": "ZVSzeSC-0-Y3"
      }
    },
    {
      "cell_type": "code",
      "source": [
        "lista_numero=[5,7,14,6,9]\n",
        "for pos in range(len(lista_numero)): #->[0,1,2,3,4]\n",
        "  if(pos!=len(lista_numero)-1):\n",
        "    print(lista_numero[pos], lista_numero[pos+1])\n",
        "  "
      ],
      "metadata": {
        "colab": {
          "base_uri": "https://localhost:8080/"
        },
        "id": "QBIRte9T7Y7v",
        "outputId": "949b2389-b843-43e4-d354-f7444e8bcedf"
      },
      "execution_count": null,
      "outputs": [
        {
          "output_type": "stream",
          "name": "stdout",
          "text": [
            "5 7\n",
            "7 14\n",
            "14 6\n",
            "6 9\n"
          ]
        }
      ]
    },
    {
      "cell_type": "code",
      "source": [
        ")#Trabajo con listas y números\n",
        "lista_numero=[5,7,14,6,9]\n",
        "lista_numero2=[9,11,10,4,8]\n",
        "lista_nueva=[lista_numero, lista_numero2]\n",
        "print(lista_nueva)"
      ],
      "metadata": {
        "colab": {
          "base_uri": "https://localhost:8080/"
        },
        "id": "hqbZAZel5CAz",
        "outputId": "1b2e938b-4df2-411f-d16d-52c70a4a061c"
      },
      "execution_count": null,
      "outputs": [
        {
          "output_type": "stream",
          "name": "stdout",
          "text": [
            "[[5, 7, 14, 6, 9], [9, 11, 10, 4, 8]]\n"
          ]
        }
      ]
    },
    {
      "cell_type": "code",
      "source": [
        "#tuplas con map()\n",
        "s=\"D,a,n,i,e,l\"\n",
        "#s1=s.split(\",\")\n",
        "#print(s1)\n",
        "t=tuple(s)\n",
        "#t =tuple(map(int, input().split(\",\")))\n",
        "print(t)"
      ],
      "metadata": {
        "colab": {
          "base_uri": "https://localhost:8080/"
        },
        "id": "KFt2Qr5tz8KZ",
        "outputId": "e594e38a-5408-4a51-c5fe-f7cea04669ef"
      },
      "execution_count": null,
      "outputs": [
        {
          "output_type": "stream",
          "name": "stdout",
          "text": [
            "('D', ',', 'a', ',', 'n', ',', 'i', ',', 'e', ',', 'l')\n"
          ]
        }
      ]
    },
    {
      "cell_type": "code",
      "source": [
        ""
      ],
      "metadata": {
        "id": "ELbs4tSr1DRb"
      },
      "execution_count": null,
      "outputs": []
    },
    {
      "cell_type": "code",
      "source": [
        "#El mayor\n",
        "tupla_numeros=(0,7,3,4,10,0,1)\n",
        "''' def encontrar_mayor(numeros):\n",
        "  el_mayor=0\n",
        "  for elemento in numeros:\n",
        "    if elemento > el_mayor:\n",
        "      el_mayor=elemento\n",
        "  return el_mayor\n",
        " '''\n",
        "#print(encontrar_mayor(tupla_numeros))\n",
        "print(max(tupla_numeros))"
      ],
      "metadata": {
        "colab": {
          "base_uri": "https://localhost:8080/"
        },
        "id": "OcFjJybYsbIm",
        "outputId": "ea13d033-8d33-4b21-e09b-f4efd63a7ca7"
      },
      "execution_count": null,
      "outputs": [
        {
          "output_type": "stream",
          "name": "stdout",
          "text": [
            "10\n"
          ]
        }
      ]
    },
    {
      "cell_type": "code",
      "source": [
        "tupla_z=(\"hola\", \"mundo\", \"dev\")\n",
        "tupla_x=(1, 2, 3)\n",
        "#print(tupla_z)\n",
        "#print(tupla_z.index(\"mundo\"))\n",
        "print(tupla_x.index(2))"
      ],
      "metadata": {
        "colab": {
          "base_uri": "https://localhost:8080/"
        },
        "id": "nutgh0aqq-Xf",
        "outputId": "11700a9f-ce29-4f7a-ed9f-cc99419ecee2"
      },
      "execution_count": null,
      "outputs": [
        {
          "output_type": "stream",
          "name": "stdout",
          "text": [
            "1\n"
          ]
        }
      ]
    },
    {
      "cell_type": "markdown",
      "source": [
        "**Clase 09 de mayo - STRING y tuplas**"
      ],
      "metadata": {
        "id": "L5HS3nS4jgA-"
      }
    },
    {
      "cell_type": "code",
      "source": [
        "#Tuplas\n",
        "tupla_0=(\"hola\", 123)\n",
        "tupla_1=(tupla_0,\"hola mundo\",123, \"ad\", 1.5)\n",
        "#print(tupla_1[0][1],tupla_1[1][8])\n",
        "\n",
        "tupla_a=(\"A\",\"B\",123)\n",
        "tupla_b=(1,2,3,\"4\")\n",
        "tupla_c=tupla_b+tupla_a\n",
        "#print(tupla_c)\n",
        "tupla_ax2=tupla_b*3\n",
        "#print(tupla_ax2)\n",
        "\n",
        "tupla_z=(tupla_a, tupla_b)\n",
        "tupla_zx3=tupla_z*2\n",
        "print(tupla_zx3)\n"
      ],
      "metadata": {
        "colab": {
          "base_uri": "https://localhost:8080/"
        },
        "id": "fOsjUb0LmeJH",
        "outputId": "c9c6b176-e262-4916-ae2c-dfef8319f93d"
      },
      "execution_count": null,
      "outputs": [
        {
          "output_type": "stream",
          "name": "stdout",
          "text": [
            "(('A', 'B', 123), (1, 2, 3, '4'), ('A', 'B', 123), (1, 2, 3, '4'))\n"
          ]
        }
      ]
    },
    {
      "cell_type": "code",
      "source": [
        "string_1=\"a,b,c,d,e\"\n",
        "string_1=string_1.upper()\n",
        "print(string_1[len(string_1)-1])\n",
        "lista_1=string_1.split(\",\")\n",
        "#print(lista_1)\n",
        "\n",
        "lista_paises=[\"Colombia\", \"Panamá\", \"Perú\"]\n",
        "#print(lista_paises[1])"
      ],
      "metadata": {
        "colab": {
          "base_uri": "https://localhost:8080/"
        },
        "id": "RSX_BB9gjmS8",
        "outputId": "dac08482-f88d-4d1a-ad70-30e8e2a2da0c"
      },
      "execution_count": null,
      "outputs": [
        {
          "output_type": "stream",
          "name": "stdout",
          "text": [
            "E\n"
          ]
        }
      ]
    },
    {
      "cell_type": "markdown",
      "source": [
        "**Clase 05 de mayo - STRING**"
      ],
      "metadata": {
        "id": "77H7nDXM7gFZ"
      }
    },
    {
      "cell_type": "code",
      "source": [
        "#Ejercicio string cadena dentro de otra\n",
        "cadena_1=\"pepito\"\n",
        "cadena_2=\"un pedazo de tierra por\"\n",
        "\n",
        "def contiene_cadena(primera_cadena, segunda_cadena):\n",
        "  for caracter in primera_cadena:\n",
        "    if caracter not in segunda_cadena:\n",
        "      return False\n",
        "    segunda_cadena=segunda_cadena.replace(caracter, \"\", 1)\n",
        "  return True\n",
        "\n",
        "print(contiene_cadena(cadena_1, cadena_2))\n",
        "\n"
      ],
      "metadata": {
        "colab": {
          "base_uri": "https://localhost:8080/"
        },
        "id": "qnuKlLKpTDWg",
        "outputId": "64d44e55-b1f6-487c-d981-9b85ccf0706d"
      },
      "execution_count": null,
      "outputs": [
        {
          "output_type": "stream",
          "name": "stdout",
          "text": [
            "True\n"
          ]
        }
      ]
    },
    {
      "cell_type": "code",
      "source": [
        "#Metodos string\n",
        "text = \"hola\"\n",
        "cantidad_elementos=len(text)\n",
        "#print(text[2:len(text)])\n",
        "\n",
        "text=text.upper()\n",
        "text=text.lower()\n",
        "text=text.capitalize()\n",
        "text=text.swapcase()\n",
        "print(text)\n"
      ],
      "metadata": {
        "colab": {
          "base_uri": "https://localhost:8080/"
        },
        "id": "9UT16PCcMy1f",
        "outputId": "e7b65982-6325-4fb7-e9c1-2bd2fc101e70"
      },
      "execution_count": null,
      "outputs": [
        {
          "output_type": "stream",
          "name": "stdout",
          "text": [
            "hOLA\n"
          ]
        }
      ]
    },
    {
      "cell_type": "code",
      "source": [
        "str_1=\"hOLA\"\n",
        "str_2=\"Hola\"\n",
        "#print(str_1>=str_2)\n",
        "#print(str_1[3])\n",
        "\n",
        "#Ejemplo cadena contiene otra cadena o caracter:\n",
        "text = \"cien años de soledad\"\n",
        "text_2=\"hola\"\n",
        "text_3=\"cxxx\"\n",
        "contadora=0\n",
        "for caracter in text:\n",
        "  if caracter in text_2:\n",
        "    print(\"text_2 contiene un caracter \",caracter)\n",
        "    contadora+=1\n",
        "  if caracter in text_3:\n",
        "    print(\"text_3 contiene un caracter \",caracter)\n",
        "    contadora-=1\n",
        "\n",
        "print(\"contadora ->\",contadora)\n",
        "\n",
        "\n"
      ],
      "metadata": {
        "colab": {
          "base_uri": "https://localhost:8080/"
        },
        "id": "kA8V--dH7tCu",
        "outputId": "ffdd30ec-0ad0-4f23-a4d3-3f3a5fdf555e"
      },
      "execution_count": null,
      "outputs": [
        {
          "output_type": "stream",
          "name": "stdout",
          "text": [
            "text_3 contiene un caracter  c\n",
            "text_2 contiene un caracter  a\n",
            "text_2 contiene un caracter  o\n",
            "text_2 contiene un caracter  o\n",
            "text_2 contiene un caracter  l\n",
            "text_2 contiene un caracter  a\n",
            "contadora -> 4\n"
          ]
        }
      ]
    },
    {
      "cell_type": "markdown",
      "source": [
        "**Clase 04 de mayo - Ciclos (FOR)**"
      ],
      "metadata": {
        "id": "PQsAyJvey6jJ"
      }
    },
    {
      "cell_type": "code",
      "source": [
        "\n",
        "n= int(input())\n",
        "suma=0\n",
        "for i in range (1,n+1):\n",
        "    suma+=i\n",
        "print(suma)"
      ],
      "metadata": {
        "colab": {
          "base_uri": "https://localhost:8080/"
        },
        "id": "C0_23rlQKuFd",
        "outputId": "12461eb4-8947-4996-944c-7c13341170b5"
      },
      "execution_count": null,
      "outputs": [
        {
          "output_type": "stream",
          "name": "stdout",
          "text": [
            "6\n",
            "21\n"
          ]
        }
      ]
    },
    {
      "cell_type": "code",
      "source": [
        "#Numeros impares 1 al 999\n",
        "''' for numero in range(1, 1000, 2):\n",
        "  print(numero) '''\n",
        "\n",
        "#Numeros impares 1 al 999\n",
        "numero_usuario=int(input(\"digite n: \"))\n",
        "for numero_par in range(0, numero_usuario + 1, 2):\n",
        "  print(numero_par)\n"
      ],
      "metadata": {
        "colab": {
          "base_uri": "https://localhost:8080/"
        },
        "id": "XCuVIVfKIrpD",
        "outputId": "c962e976-5aa5-4235-e561-b483fafeda63"
      },
      "execution_count": null,
      "outputs": [
        {
          "output_type": "stream",
          "name": "stdout",
          "text": [
            "digite n: 11\n",
            "0\n",
            "2\n",
            "4\n",
            "6\n",
            "8\n",
            "10\n"
          ]
        }
      ]
    },
    {
      "cell_type": "code",
      "source": [
        "# de 1 al 100 con su respectivo cuadrado\n",
        "for numero in range(1,101):\n",
        "  print(numero,numero**2)"
      ],
      "metadata": {
        "colab": {
          "base_uri": "https://localhost:8080/"
        },
        "id": "kEevJnRlH8ov",
        "outputId": "dccc4196-80fc-45be-abec-b99369a0e1d4"
      },
      "execution_count": null,
      "outputs": [
        {
          "output_type": "stream",
          "name": "stdout",
          "text": [
            "1 1\n",
            "2 4\n",
            "3 9\n",
            "4 16\n",
            "5 25\n",
            "6 36\n",
            "7 49\n",
            "8 64\n",
            "9 81\n",
            "10 100\n",
            "11 121\n",
            "12 144\n",
            "13 169\n",
            "14 196\n",
            "15 225\n",
            "16 256\n",
            "17 289\n",
            "18 324\n",
            "19 361\n",
            "20 400\n",
            "21 441\n",
            "22 484\n",
            "23 529\n",
            "24 576\n",
            "25 625\n",
            "26 676\n",
            "27 729\n",
            "28 784\n",
            "29 841\n",
            "30 900\n",
            "31 961\n",
            "32 1024\n",
            "33 1089\n",
            "34 1156\n",
            "35 1225\n",
            "36 1296\n",
            "37 1369\n",
            "38 1444\n",
            "39 1521\n",
            "40 1600\n",
            "41 1681\n",
            "42 1764\n",
            "43 1849\n",
            "44 1936\n",
            "45 2025\n",
            "46 2116\n",
            "47 2209\n",
            "48 2304\n",
            "49 2401\n",
            "50 2500\n",
            "51 2601\n",
            "52 2704\n",
            "53 2809\n",
            "54 2916\n",
            "55 3025\n",
            "56 3136\n",
            "57 3249\n",
            "58 3364\n",
            "59 3481\n",
            "60 3600\n",
            "61 3721\n",
            "62 3844\n",
            "63 3969\n",
            "64 4096\n",
            "65 4225\n",
            "66 4356\n",
            "67 4489\n",
            "68 4624\n",
            "69 4761\n",
            "70 4900\n",
            "71 5041\n",
            "72 5184\n",
            "73 5329\n",
            "74 5476\n",
            "75 5625\n",
            "76 5776\n",
            "77 5929\n",
            "78 6084\n",
            "79 6241\n",
            "80 6400\n",
            "81 6561\n",
            "82 6724\n",
            "83 6889\n",
            "84 7056\n",
            "85 7225\n",
            "86 7396\n",
            "87 7569\n",
            "88 7744\n",
            "89 7921\n",
            "90 8100\n",
            "91 8281\n",
            "92 8464\n",
            "93 8649\n",
            "94 8836\n",
            "95 9025\n",
            "96 9216\n",
            "97 9409\n",
            "98 9604\n",
            "99 9801\n",
            "100 10000\n"
          ]
        }
      ]
    },
    {
      "cell_type": "code",
      "source": [
        "#Funcion range()\n",
        "a=range(6) #[0,1,2,3,4,5]\n",
        "#print(a)\n",
        "\n",
        "b=range(6,11) #[6,7,8,9,10]\n",
        "#print(b)\n",
        "\n",
        "c=range(6,13,2) #[6,8,10.12]\n",
        "\n",
        "for elemento in c:\n",
        "  print(elemento, end=\",\")"
      ],
      "metadata": {
        "colab": {
          "base_uri": "https://localhost:8080/"
        },
        "id": "KDvJs3zWA0FG",
        "outputId": "7dbd7807-cca1-4ffa-e253-e34d702d28cc"
      },
      "execution_count": null,
      "outputs": [
        {
          "output_type": "stream",
          "name": "stdout",
          "text": [
            "10,8,6,4,2,"
          ]
        }
      ]
    },
    {
      "cell_type": "code",
      "source": [
        "#Imprimir lista de frutas>\n",
        "lista_frutas=[\"lulo\", \"maracuya\", \"guanabana\"]\n",
        "\n",
        "for fruta in lista_frutas:\n",
        "  print(fruta, end=\" \")\n",
        "  if(fruta==\"lulo\"):\n",
        "    break\n",
        "\n"
      ],
      "metadata": {
        "colab": {
          "base_uri": "https://localhost:8080/"
        },
        "id": "X5i1Nch-8rAU",
        "outputId": "f8f5c376-ddc9-43fc-9f66-4e9e25014083"
      },
      "execution_count": null,
      "outputs": [
        {
          "output_type": "stream",
          "name": "stdout",
          "text": [
            "lulo "
          ]
        }
      ]
    },
    {
      "cell_type": "code",
      "source": [
        "#Ejemplo for\n",
        "lista_nombres=[\"Daniel\", \"Maria\", \"Lina\"]\n",
        "palabra=\"hola mundo\"\n",
        "palabra_2=\"mnu\"\n",
        "contador=0\n",
        "contador_2=0\n",
        "\n",
        "for elemento in palabra:\n",
        "  for elemento_2 in palabra_2:\n",
        "    if(elemento == elemento_2):\n",
        "      print(\"letra está dentro de palabra\", elemento)\n",
        "  \n",
        "    print(\"elemento for externo \", elemento)\n",
        "    print(\"elemento_2 for interno \", elemento_2)\n",
        "    print(\"dentro for interno \\n\")\n",
        "\n",
        "print(\"for principal\")\n"
      ],
      "metadata": {
        "colab": {
          "base_uri": "https://localhost:8080/"
        },
        "id": "4DIvHWFHzAiG",
        "outputId": "9b85f9cb-43e4-4a1f-dd8a-8b9965972863"
      },
      "execution_count": null,
      "outputs": [
        {
          "output_type": "stream",
          "name": "stdout",
          "text": [
            "elemento for externo  h\n",
            "elemento_2 for interno  m\n",
            "dentro for interno \n",
            "\n",
            "elemento for externo  h\n",
            "elemento_2 for interno  n\n",
            "dentro for interno \n",
            "\n",
            "elemento for externo  h\n",
            "elemento_2 for interno  u\n",
            "dentro for interno \n",
            "\n",
            "elemento for externo  o\n",
            "elemento_2 for interno  m\n",
            "dentro for interno \n",
            "\n",
            "elemento for externo  o\n",
            "elemento_2 for interno  n\n",
            "dentro for interno \n",
            "\n",
            "elemento for externo  o\n",
            "elemento_2 for interno  u\n",
            "dentro for interno \n",
            "\n",
            "elemento for externo  l\n",
            "elemento_2 for interno  m\n",
            "dentro for interno \n",
            "\n",
            "elemento for externo  l\n",
            "elemento_2 for interno  n\n",
            "dentro for interno \n",
            "\n",
            "elemento for externo  l\n",
            "elemento_2 for interno  u\n",
            "dentro for interno \n",
            "\n",
            "elemento for externo  a\n",
            "elemento_2 for interno  m\n",
            "dentro for interno \n",
            "\n",
            "elemento for externo  a\n",
            "elemento_2 for interno  n\n",
            "dentro for interno \n",
            "\n",
            "elemento for externo  a\n",
            "elemento_2 for interno  u\n",
            "dentro for interno \n",
            "\n",
            "elemento for externo   \n",
            "elemento_2 for interno  m\n",
            "dentro for interno \n",
            "\n",
            "elemento for externo   \n",
            "elemento_2 for interno  n\n",
            "dentro for interno \n",
            "\n",
            "elemento for externo   \n",
            "elemento_2 for interno  u\n",
            "dentro for interno \n",
            "\n",
            "letra está dentro de palabra m\n",
            "elemento for externo  m\n",
            "elemento_2 for interno  m\n",
            "dentro for interno \n",
            "\n",
            "elemento for externo  m\n",
            "elemento_2 for interno  n\n",
            "dentro for interno \n",
            "\n",
            "elemento for externo  m\n",
            "elemento_2 for interno  u\n",
            "dentro for interno \n",
            "\n",
            "elemento for externo  u\n",
            "elemento_2 for interno  m\n",
            "dentro for interno \n",
            "\n",
            "elemento for externo  u\n",
            "elemento_2 for interno  n\n",
            "dentro for interno \n",
            "\n",
            "letra está dentro de palabra u\n",
            "elemento for externo  u\n",
            "elemento_2 for interno  u\n",
            "dentro for interno \n",
            "\n",
            "elemento for externo  n\n",
            "elemento_2 for interno  m\n",
            "dentro for interno \n",
            "\n",
            "letra está dentro de palabra n\n",
            "elemento for externo  n\n",
            "elemento_2 for interno  n\n",
            "dentro for interno \n",
            "\n",
            "elemento for externo  n\n",
            "elemento_2 for interno  u\n",
            "dentro for interno \n",
            "\n",
            "elemento for externo  d\n",
            "elemento_2 for interno  m\n",
            "dentro for interno \n",
            "\n",
            "elemento for externo  d\n",
            "elemento_2 for interno  n\n",
            "dentro for interno \n",
            "\n",
            "elemento for externo  d\n",
            "elemento_2 for interno  u\n",
            "dentro for interno \n",
            "\n",
            "elemento for externo  o\n",
            "elemento_2 for interno  m\n",
            "dentro for interno \n",
            "\n",
            "elemento for externo  o\n",
            "elemento_2 for interno  n\n",
            "dentro for interno \n",
            "\n",
            "elemento for externo  o\n",
            "elemento_2 for interno  u\n",
            "dentro for interno \n",
            "\n",
            "for principal\n"
          ]
        }
      ]
    },
    {
      "cell_type": "markdown",
      "source": [
        "**Clase 03 de mayo - Ciclos**"
      ],
      "metadata": {
        "id": "zGAt2Nabzo_8"
      }
    },
    {
      "cell_type": "code",
      "source": [
        "#For en python\n",
        "lista_nombres=[\"Daniel\", \"Maria\", \"Lina\"]\n",
        "palabra=\"hola mundo\"\n",
        "\n",
        "print(palabra[5])\n",
        "\n",
        "''' print(lista_nombres[0])\n",
        "print(lista_nombres[1])\n",
        "print(lista_nombres[2]) '''"
      ],
      "metadata": {
        "colab": {
          "base_uri": "https://localhost:8080/",
          "height": 53
        },
        "id": "zEauXsaDASwk",
        "outputId": "bc2d5d4c-3316-4fb6-b8fd-c9cfca0df022"
      },
      "execution_count": null,
      "outputs": [
        {
          "output_type": "stream",
          "name": "stdout",
          "text": [
            "m\n"
          ]
        },
        {
          "output_type": "execute_result",
          "data": {
            "text/plain": [
              "' print(lista_nombres[0])\\nprint(lista_nombres[1])\\nprint(lista_nombres[2]) '"
            ],
            "application/vnd.google.colaboratory.intrinsic+json": {
              "type": "string"
            }
          },
          "metadata": {},
          "execution_count": 3
        }
      ]
    },
    {
      "cell_type": "code",
      "source": [
        "#Ejercicios cuadrado de numeros del 1 al 100:\n",
        "numero=1\n",
        "while(numero <= 100):\n",
        "  #print(numero**2)\n",
        "  numero=numero+1 #=> numero+=1"
      ],
      "metadata": {
        "id": "SLptjtGo2Uau"
      },
      "execution_count": null,
      "outputs": []
    },
    {
      "cell_type": "code",
      "source": [
        "numero_impar = 1\n",
        "numero_par = 2\n",
        "while (numero_impar < 1000) or (numero_par < 1000):\n",
        "  if (numero_impar%2 != 0) or (numero_par%2 == 0 <1000):\n",
        "    print(numero_impar, numero_par)\n",
        "  numero_par +=1\n",
        "  numero_impar+=1"
      ],
      "metadata": {
        "colab": {
          "base_uri": "https://localhost:8080/",
          "height": 133
        },
        "id": "QpISvpmg8EH7",
        "outputId": "0d74484b-8166-4f58-e1ed-cbac48f5510c"
      },
      "execution_count": null,
      "outputs": [
        {
          "output_type": "error",
          "ename": "IndentationError",
          "evalue": "ignored",
          "traceback": [
            "\u001b[0;36m  File \u001b[0;32m\"<ipython-input-21-01057c52cda3>\"\u001b[0;36m, line \u001b[0;32m6\u001b[0m\n\u001b[0;31m    numero_par +=1\u001b[0m\n\u001b[0m             ^\u001b[0m\n\u001b[0;31mIndentationError\u001b[0m\u001b[0;31m:\u001b[0m expected an indented block\n"
          ]
        }
      ]
    },
    {
      "cell_type": "code",
      "source": [
        "#Ejercicio numeros pares y numeros impares del 1 al 1000:\n",
        "print(\"lista pares\")\n",
        "numero_par=2\n",
        "while(numero_par <=1000):#Es par\n",
        "  print(numero_par)\n",
        "  numero_par+=2\n",
        "  \n",
        "print(\"lista impares\")\n",
        "numero_impar=1\n",
        "while(numero_impar <=999):#Es par\n",
        "  print(numero_impar)\n",
        "  numero_impar+=2\n",
        "\n"
      ],
      "metadata": {
        "colab": {
          "base_uri": "https://localhost:8080/"
        },
        "id": "UXdts9Ml3htg",
        "outputId": "8c0c77aa-ae62-494f-a677-3858b746d715"
      },
      "execution_count": null,
      "outputs": [
        {
          "output_type": "stream",
          "name": "stdout",
          "text": [
            "lista pares\n",
            "2\n",
            "4\n",
            "6\n",
            "8\n",
            "10\n",
            "12\n",
            "14\n",
            "16\n",
            "18\n",
            "20\n",
            "22\n",
            "24\n",
            "26\n",
            "28\n",
            "30\n",
            "32\n",
            "34\n",
            "36\n",
            "38\n",
            "40\n",
            "42\n",
            "44\n",
            "46\n",
            "48\n",
            "50\n",
            "52\n",
            "54\n",
            "56\n",
            "58\n",
            "60\n",
            "62\n",
            "64\n",
            "66\n",
            "68\n",
            "70\n",
            "72\n",
            "74\n",
            "76\n",
            "78\n",
            "80\n",
            "82\n",
            "84\n",
            "86\n",
            "88\n",
            "90\n",
            "92\n",
            "94\n",
            "96\n",
            "98\n",
            "100\n",
            "102\n",
            "104\n",
            "106\n",
            "108\n",
            "110\n",
            "112\n",
            "114\n",
            "116\n",
            "118\n",
            "120\n",
            "122\n",
            "124\n",
            "126\n",
            "128\n",
            "130\n",
            "132\n",
            "134\n",
            "136\n",
            "138\n",
            "140\n",
            "142\n",
            "144\n",
            "146\n",
            "148\n",
            "150\n",
            "152\n",
            "154\n",
            "156\n",
            "158\n",
            "160\n",
            "162\n",
            "164\n",
            "166\n",
            "168\n",
            "170\n",
            "172\n",
            "174\n",
            "176\n",
            "178\n",
            "180\n",
            "182\n",
            "184\n",
            "186\n",
            "188\n",
            "190\n",
            "192\n",
            "194\n",
            "196\n",
            "198\n",
            "200\n",
            "202\n",
            "204\n",
            "206\n",
            "208\n",
            "210\n",
            "212\n",
            "214\n",
            "216\n",
            "218\n",
            "220\n",
            "222\n",
            "224\n",
            "226\n",
            "228\n",
            "230\n",
            "232\n",
            "234\n",
            "236\n",
            "238\n",
            "240\n",
            "242\n",
            "244\n",
            "246\n",
            "248\n",
            "250\n",
            "252\n",
            "254\n",
            "256\n",
            "258\n",
            "260\n",
            "262\n",
            "264\n",
            "266\n",
            "268\n",
            "270\n",
            "272\n",
            "274\n",
            "276\n",
            "278\n",
            "280\n",
            "282\n",
            "284\n",
            "286\n",
            "288\n",
            "290\n",
            "292\n",
            "294\n",
            "296\n",
            "298\n",
            "300\n",
            "302\n",
            "304\n",
            "306\n",
            "308\n",
            "310\n",
            "312\n",
            "314\n",
            "316\n",
            "318\n",
            "320\n",
            "322\n",
            "324\n",
            "326\n",
            "328\n",
            "330\n",
            "332\n",
            "334\n",
            "336\n",
            "338\n",
            "340\n",
            "342\n",
            "344\n",
            "346\n",
            "348\n",
            "350\n",
            "352\n",
            "354\n",
            "356\n",
            "358\n",
            "360\n",
            "362\n",
            "364\n",
            "366\n",
            "368\n",
            "370\n",
            "372\n",
            "374\n",
            "376\n",
            "378\n",
            "380\n",
            "382\n",
            "384\n",
            "386\n",
            "388\n",
            "390\n",
            "392\n",
            "394\n",
            "396\n",
            "398\n",
            "400\n",
            "402\n",
            "404\n",
            "406\n",
            "408\n",
            "410\n",
            "412\n",
            "414\n",
            "416\n",
            "418\n",
            "420\n",
            "422\n",
            "424\n",
            "426\n",
            "428\n",
            "430\n",
            "432\n",
            "434\n",
            "436\n",
            "438\n",
            "440\n",
            "442\n",
            "444\n",
            "446\n",
            "448\n",
            "450\n",
            "452\n",
            "454\n",
            "456\n",
            "458\n",
            "460\n",
            "462\n",
            "464\n",
            "466\n",
            "468\n",
            "470\n",
            "472\n",
            "474\n",
            "476\n",
            "478\n",
            "480\n",
            "482\n",
            "484\n",
            "486\n",
            "488\n",
            "490\n",
            "492\n",
            "494\n",
            "496\n",
            "498\n",
            "500\n",
            "502\n",
            "504\n",
            "506\n",
            "508\n",
            "510\n",
            "512\n",
            "514\n",
            "516\n",
            "518\n",
            "520\n",
            "522\n",
            "524\n",
            "526\n",
            "528\n",
            "530\n",
            "532\n",
            "534\n",
            "536\n",
            "538\n",
            "540\n",
            "542\n",
            "544\n",
            "546\n",
            "548\n",
            "550\n",
            "552\n",
            "554\n",
            "556\n",
            "558\n",
            "560\n",
            "562\n",
            "564\n",
            "566\n",
            "568\n",
            "570\n",
            "572\n",
            "574\n",
            "576\n",
            "578\n",
            "580\n",
            "582\n",
            "584\n",
            "586\n",
            "588\n",
            "590\n",
            "592\n",
            "594\n",
            "596\n",
            "598\n",
            "600\n",
            "602\n",
            "604\n",
            "606\n",
            "608\n",
            "610\n",
            "612\n",
            "614\n",
            "616\n",
            "618\n",
            "620\n",
            "622\n",
            "624\n",
            "626\n",
            "628\n",
            "630\n",
            "632\n",
            "634\n",
            "636\n",
            "638\n",
            "640\n",
            "642\n",
            "644\n",
            "646\n",
            "648\n",
            "650\n",
            "652\n",
            "654\n",
            "656\n",
            "658\n",
            "660\n",
            "662\n",
            "664\n",
            "666\n",
            "668\n",
            "670\n",
            "672\n",
            "674\n",
            "676\n",
            "678\n",
            "680\n",
            "682\n",
            "684\n",
            "686\n",
            "688\n",
            "690\n",
            "692\n",
            "694\n",
            "696\n",
            "698\n",
            "700\n",
            "702\n",
            "704\n",
            "706\n",
            "708\n",
            "710\n",
            "712\n",
            "714\n",
            "716\n",
            "718\n",
            "720\n",
            "722\n",
            "724\n",
            "726\n",
            "728\n",
            "730\n",
            "732\n",
            "734\n",
            "736\n",
            "738\n",
            "740\n",
            "742\n",
            "744\n",
            "746\n",
            "748\n",
            "750\n",
            "752\n",
            "754\n",
            "756\n",
            "758\n",
            "760\n",
            "762\n",
            "764\n",
            "766\n",
            "768\n",
            "770\n",
            "772\n",
            "774\n",
            "776\n",
            "778\n",
            "780\n",
            "782\n",
            "784\n",
            "786\n",
            "788\n",
            "790\n",
            "792\n",
            "794\n",
            "796\n",
            "798\n",
            "800\n",
            "802\n",
            "804\n",
            "806\n",
            "808\n",
            "810\n",
            "812\n",
            "814\n",
            "816\n",
            "818\n",
            "820\n",
            "822\n",
            "824\n",
            "826\n",
            "828\n",
            "830\n",
            "832\n",
            "834\n",
            "836\n",
            "838\n",
            "840\n",
            "842\n",
            "844\n",
            "846\n",
            "848\n",
            "850\n",
            "852\n",
            "854\n",
            "856\n",
            "858\n",
            "860\n",
            "862\n",
            "864\n",
            "866\n",
            "868\n",
            "870\n",
            "872\n",
            "874\n",
            "876\n",
            "878\n",
            "880\n",
            "882\n",
            "884\n",
            "886\n",
            "888\n",
            "890\n",
            "892\n",
            "894\n",
            "896\n",
            "898\n",
            "900\n",
            "902\n",
            "904\n",
            "906\n",
            "908\n",
            "910\n",
            "912\n",
            "914\n",
            "916\n",
            "918\n",
            "920\n",
            "922\n",
            "924\n",
            "926\n",
            "928\n",
            "930\n",
            "932\n",
            "934\n",
            "936\n",
            "938\n",
            "940\n",
            "942\n",
            "944\n",
            "946\n",
            "948\n",
            "950\n",
            "952\n",
            "954\n",
            "956\n",
            "958\n",
            "960\n",
            "962\n",
            "964\n",
            "966\n",
            "968\n",
            "970\n",
            "972\n",
            "974\n",
            "976\n",
            "978\n",
            "980\n",
            "982\n",
            "984\n",
            "986\n",
            "988\n",
            "990\n",
            "992\n",
            "994\n",
            "996\n",
            "998\n",
            "1000\n",
            "lista impares\n",
            "1\n",
            "3\n",
            "5\n",
            "7\n",
            "9\n",
            "11\n",
            "13\n",
            "15\n",
            "17\n",
            "19\n",
            "21\n",
            "23\n",
            "25\n",
            "27\n",
            "29\n",
            "31\n",
            "33\n",
            "35\n",
            "37\n",
            "39\n",
            "41\n",
            "43\n",
            "45\n",
            "47\n",
            "49\n",
            "51\n",
            "53\n",
            "55\n",
            "57\n",
            "59\n",
            "61\n",
            "63\n",
            "65\n",
            "67\n",
            "69\n",
            "71\n",
            "73\n",
            "75\n",
            "77\n",
            "79\n",
            "81\n",
            "83\n",
            "85\n",
            "87\n",
            "89\n",
            "91\n",
            "93\n",
            "95\n",
            "97\n",
            "99\n",
            "101\n",
            "103\n",
            "105\n",
            "107\n",
            "109\n",
            "111\n",
            "113\n",
            "115\n",
            "117\n",
            "119\n",
            "121\n",
            "123\n",
            "125\n",
            "127\n",
            "129\n",
            "131\n",
            "133\n",
            "135\n",
            "137\n",
            "139\n",
            "141\n",
            "143\n",
            "145\n",
            "147\n",
            "149\n",
            "151\n",
            "153\n",
            "155\n",
            "157\n",
            "159\n",
            "161\n",
            "163\n",
            "165\n",
            "167\n",
            "169\n",
            "171\n",
            "173\n",
            "175\n",
            "177\n",
            "179\n",
            "181\n",
            "183\n",
            "185\n",
            "187\n",
            "189\n",
            "191\n",
            "193\n",
            "195\n",
            "197\n",
            "199\n",
            "201\n",
            "203\n",
            "205\n",
            "207\n",
            "209\n",
            "211\n",
            "213\n",
            "215\n",
            "217\n",
            "219\n",
            "221\n",
            "223\n",
            "225\n",
            "227\n",
            "229\n",
            "231\n",
            "233\n",
            "235\n",
            "237\n",
            "239\n",
            "241\n",
            "243\n",
            "245\n",
            "247\n",
            "249\n",
            "251\n",
            "253\n",
            "255\n",
            "257\n",
            "259\n",
            "261\n",
            "263\n",
            "265\n",
            "267\n",
            "269\n",
            "271\n",
            "273\n",
            "275\n",
            "277\n",
            "279\n",
            "281\n",
            "283\n",
            "285\n",
            "287\n",
            "289\n",
            "291\n",
            "293\n",
            "295\n",
            "297\n",
            "299\n",
            "301\n",
            "303\n",
            "305\n",
            "307\n",
            "309\n",
            "311\n",
            "313\n",
            "315\n",
            "317\n",
            "319\n",
            "321\n",
            "323\n",
            "325\n",
            "327\n",
            "329\n",
            "331\n",
            "333\n",
            "335\n",
            "337\n",
            "339\n",
            "341\n",
            "343\n",
            "345\n",
            "347\n",
            "349\n",
            "351\n",
            "353\n",
            "355\n",
            "357\n",
            "359\n",
            "361\n",
            "363\n",
            "365\n",
            "367\n",
            "369\n",
            "371\n",
            "373\n",
            "375\n",
            "377\n",
            "379\n",
            "381\n",
            "383\n",
            "385\n",
            "387\n",
            "389\n",
            "391\n",
            "393\n",
            "395\n",
            "397\n",
            "399\n",
            "401\n",
            "403\n",
            "405\n",
            "407\n",
            "409\n",
            "411\n",
            "413\n",
            "415\n",
            "417\n",
            "419\n",
            "421\n",
            "423\n",
            "425\n",
            "427\n",
            "429\n",
            "431\n",
            "433\n",
            "435\n",
            "437\n",
            "439\n",
            "441\n",
            "443\n",
            "445\n",
            "447\n",
            "449\n",
            "451\n",
            "453\n",
            "455\n",
            "457\n",
            "459\n",
            "461\n",
            "463\n",
            "465\n",
            "467\n",
            "469\n",
            "471\n",
            "473\n",
            "475\n",
            "477\n",
            "479\n",
            "481\n",
            "483\n",
            "485\n",
            "487\n",
            "489\n",
            "491\n",
            "493\n",
            "495\n",
            "497\n",
            "499\n",
            "501\n",
            "503\n",
            "505\n",
            "507\n",
            "509\n",
            "511\n",
            "513\n",
            "515\n",
            "517\n",
            "519\n",
            "521\n",
            "523\n",
            "525\n",
            "527\n",
            "529\n",
            "531\n",
            "533\n",
            "535\n",
            "537\n",
            "539\n",
            "541\n",
            "543\n",
            "545\n",
            "547\n",
            "549\n",
            "551\n",
            "553\n",
            "555\n",
            "557\n",
            "559\n",
            "561\n",
            "563\n",
            "565\n",
            "567\n",
            "569\n",
            "571\n",
            "573\n",
            "575\n",
            "577\n",
            "579\n",
            "581\n",
            "583\n",
            "585\n",
            "587\n",
            "589\n",
            "591\n",
            "593\n",
            "595\n",
            "597\n",
            "599\n",
            "601\n",
            "603\n",
            "605\n",
            "607\n",
            "609\n",
            "611\n",
            "613\n",
            "615\n",
            "617\n",
            "619\n",
            "621\n",
            "623\n",
            "625\n",
            "627\n",
            "629\n",
            "631\n",
            "633\n",
            "635\n",
            "637\n",
            "639\n",
            "641\n",
            "643\n",
            "645\n",
            "647\n",
            "649\n",
            "651\n",
            "653\n",
            "655\n",
            "657\n",
            "659\n",
            "661\n",
            "663\n",
            "665\n",
            "667\n",
            "669\n",
            "671\n",
            "673\n",
            "675\n",
            "677\n",
            "679\n",
            "681\n",
            "683\n",
            "685\n",
            "687\n",
            "689\n",
            "691\n",
            "693\n",
            "695\n",
            "697\n",
            "699\n",
            "701\n",
            "703\n",
            "705\n",
            "707\n",
            "709\n",
            "711\n",
            "713\n",
            "715\n",
            "717\n",
            "719\n",
            "721\n",
            "723\n",
            "725\n",
            "727\n",
            "729\n",
            "731\n",
            "733\n",
            "735\n",
            "737\n",
            "739\n",
            "741\n",
            "743\n",
            "745\n",
            "747\n",
            "749\n",
            "751\n",
            "753\n",
            "755\n",
            "757\n",
            "759\n",
            "761\n",
            "763\n",
            "765\n",
            "767\n",
            "769\n",
            "771\n",
            "773\n",
            "775\n",
            "777\n",
            "779\n",
            "781\n",
            "783\n",
            "785\n",
            "787\n",
            "789\n",
            "791\n",
            "793\n",
            "795\n",
            "797\n",
            "799\n",
            "801\n",
            "803\n",
            "805\n",
            "807\n",
            "809\n",
            "811\n",
            "813\n",
            "815\n",
            "817\n",
            "819\n",
            "821\n",
            "823\n",
            "825\n",
            "827\n",
            "829\n",
            "831\n",
            "833\n",
            "835\n",
            "837\n",
            "839\n",
            "841\n",
            "843\n",
            "845\n",
            "847\n",
            "849\n",
            "851\n",
            "853\n",
            "855\n",
            "857\n",
            "859\n",
            "861\n",
            "863\n",
            "865\n",
            "867\n",
            "869\n",
            "871\n",
            "873\n",
            "875\n",
            "877\n",
            "879\n",
            "881\n",
            "883\n",
            "885\n",
            "887\n",
            "889\n",
            "891\n",
            "893\n",
            "895\n",
            "897\n",
            "899\n",
            "901\n",
            "903\n",
            "905\n",
            "907\n",
            "909\n",
            "911\n",
            "913\n",
            "915\n",
            "917\n",
            "919\n",
            "921\n",
            "923\n",
            "925\n",
            "927\n",
            "929\n",
            "931\n",
            "933\n",
            "935\n",
            "937\n",
            "939\n",
            "941\n",
            "943\n",
            "945\n",
            "947\n",
            "949\n",
            "951\n",
            "953\n",
            "955\n",
            "957\n",
            "959\n",
            "961\n",
            "963\n",
            "965\n",
            "967\n",
            "969\n",
            "971\n",
            "973\n",
            "975\n",
            "977\n",
            "979\n",
            "981\n",
            "983\n",
            "985\n",
            "987\n",
            "989\n",
            "991\n",
            "993\n",
            "995\n",
            "997\n",
            "999\n"
          ]
        }
      ]
    },
    {
      "cell_type": "code",
      "source": [
        "''' numero = int(input(\"ingrese un  numero: \"))\n",
        "while(numero != 0):\n",
        "  print(numero)\n",
        "  numero = int(input(\"ingrese un  numero: \")) '''\n",
        "\n",
        "''' numero=int(input(\"ingrese número entero \"))\n",
        "while(numero!=0):\n",
        "  print(numero)\n",
        "  numero=int(input(\"ingrese número entero \")) '''\n",
        "\n",
        "numero_entero = int(input(\"Ingrese un valor entero \"))\n",
        "while(numero_entero != 0):\n",
        "  print(numero_entero)\n",
        "  numero_entero = int(input(\"Ingrese un valor entero \"))\n",
        "  if(numero_entero == 0):\n",
        "    print(\"Finalizo\")"
      ],
      "metadata": {
        "colab": {
          "base_uri": "https://localhost:8080/"
        },
        "id": "KoB_uvlvzoLU",
        "outputId": "1b6d0e58-0f9c-4b56-9547-40f67c4ccd7b"
      },
      "execution_count": null,
      "outputs": [
        {
          "output_type": "stream",
          "name": "stdout",
          "text": [
            "Ingrese un valor entero 15\n",
            "15\n",
            "Ingrese un valor entero 0\n",
            "Finalizo\n"
          ]
        }
      ]
    },
    {
      "cell_type": "code",
      "source": [
        "#Trabajo en Casa\n",
        "i=0\n",
        "entrar=True\n",
        "while ((i>=65 and i<=122) or entrar):\n",
        "  entrar=False\n",
        "  a=chr(i)\n",
        "  print(a)\n",
        "  i=int(input(\"ingrese su numero \"))\n"
      ],
      "metadata": {
        "colab": {
          "base_uri": "https://localhost:8080/"
        },
        "id": "HEPqlrycnZVw",
        "outputId": "bfec97fb-c339-44b2-c54f-2bd47e8e5f97"
      },
      "execution_count": null,
      "outputs": [
        {
          "name": "stdout",
          "output_type": "stream",
          "text": [
            "\u0000\n",
            "ingrese su numero 65\n",
            "A\n",
            "ingrese su numero 67\n",
            "C\n",
            "ingrese su numero 123\n"
          ]
        }
      ]
    },
    {
      "cell_type": "code",
      "source": [
        "num_entero = int(input(\"ingrese su numero\"))\n",
        "while(num_entero<65 or num_entero>90):\n",
        "  num_entero = int(input(\"ingrese su numero de nuevo\"))\n",
        "print(\"Finalizo While\")"
      ],
      "metadata": {
        "colab": {
          "base_uri": "https://localhost:8080/"
        },
        "id": "EXhkuKD41lkb",
        "outputId": "c96ded9d-332c-49c9-b104-66a9f4744b57"
      },
      "execution_count": null,
      "outputs": [
        {
          "output_type": "stream",
          "name": "stdout",
          "text": [
            "ingrese su numero65\n",
            "Finalizo While\n"
          ]
        }
      ]
    },
    {
      "cell_type": "code",
      "source": [
        "#Ciclos while\n",
        "''' print(\"algo previo\")\n",
        "i=1\n",
        "while(i<=6):\n",
        "  print(i)\n",
        "  i+=1\n",
        "print(\"i= \",i)\n",
        "print(\"finalizó while\") '''\n",
        "\n",
        "\n",
        "#i, j\n",
        "''' i=2\n",
        "j=25\n",
        "while(i<j):\n",
        "  print(i, j, sep=\", \")\n",
        "  i*=2\n",
        "  j+=10\n",
        "print(\"finalizó\")\n",
        "print(i, j, sep=\", \")\n",
        " '''\n",
        "\n",
        "\n",
        "#numero más pequeño mayor que cero\n",
        "def min_maquina():\n",
        "  Xo = 1.0\n",
        "  Xi = Xo / 2.0\n",
        "  while Xi > 0.0:\n",
        "    Xo = Xi\n",
        "    Xi = Xo / 2.0\n",
        "  return Xo\n",
        "\n",
        "retorno_funcion=min_maquina()\n",
        "print(retorno_funcion)"
      ],
      "metadata": {
        "colab": {
          "base_uri": "https://localhost:8080/"
        },
        "id": "L0XIboVQrNHL",
        "outputId": "063e28a2-9fff-41c3-830c-bf73313d6ecf"
      },
      "execution_count": null,
      "outputs": [
        {
          "output_type": "stream",
          "name": "stdout",
          "text": [
            "5e-324\n"
          ]
        }
      ]
    },
    {
      "cell_type": "markdown",
      "source": [
        "Clase 02 de mayo de 2022 **Condicionales anidados**"
      ],
      "metadata": {
        "id": "9KyyrR47fe4i"
      }
    },
    {
      "cell_type": "code",
      "source": [
        "color=input(\"Escriba el color: \")\n",
        "if(color==\"verde\"):\n",
        "  print(\"el color es verde\")\n",
        "elif(color==\"amarillo\"):\n",
        "  print(\"el color es amarillo\")\n",
        "elif(color==\"gris\"):\n",
        "  print(\"es color es gris\")\n",
        "elif(color==\"rojo\"):\n",
        "  print(\"es color es rojo\")\n",
        "elif(color==\"azul\"):\n",
        "  print(\"es color es azul\")\n",
        "else:\n",
        "  print(\"color diferente al esperado\")\n",
        "print(\"finalizó\")\n",
        "\n"
      ],
      "metadata": {
        "colab": {
          "base_uri": "https://localhost:8080/"
        },
        "id": "B_q9o4HSfd2b",
        "outputId": "ddb5993a-1562-4126-ad0a-2d02f0da4684"
      },
      "execution_count": null,
      "outputs": [
        {
          "output_type": "stream",
          "name": "stdout",
          "text": [
            "Escriba el color: rosado\n",
            "color diferente al esperado\n",
            "finalizó\n"
          ]
        }
      ]
    },
    {
      "cell_type": "markdown",
      "source": [
        "Clase 28 de abril de 2022 **Funciones 2 parámetros y condicionales**\n"
      ],
      "metadata": {
        "id": "WCF87D-vCMd5"
      }
    },
    {
      "cell_type": "code",
      "source": [
        "#Ejercicio similar RETO 1\n",
        "#entrada edad de una persona\n",
        "#imprimir= edad edad**2 edad*4\n",
        "##edad*4 >50 => \"viejo\"\n",
        "##edad*4 >40 pero menor que 50 => \"adulto\"\n",
        "##edad*4 > 0 pero menor que 40 => \"joven\"\n",
        "\n",
        "edad = int(input())\n",
        "edad_cuadrada=edad ** 2\n",
        "edad_4 = edad*4\n",
        "categoria=\"\"\n",
        "\n",
        "if(edad_4 >= 0 and edad_4 < 40 ):\n",
        "  categoria=\"joven\"\n",
        "elif(edad_4 >= 40 and edad_4 < 50):\n",
        "  categoria=\"adulto\"\n",
        "else:\n",
        "  categoria=\"viejo\"\n",
        "\n",
        "print(str(edad)+\" \"+str(edad_cuadrada)+ \" \"+str(edad_4))\n",
        "print(categoria)\n"
      ],
      "metadata": {
        "colab": {
          "base_uri": "https://localhost:8080/"
        },
        "id": "QMDx03pDQWpW",
        "outputId": "7dc99bf4-e431-4c6a-a416-3a5d9271187a"
      },
      "execution_count": null,
      "outputs": [
        {
          "output_type": "stream",
          "name": "stdout",
          "text": [
            "20\n",
            "20 400 80\n",
            "viejo\n"
          ]
        }
      ]
    },
    {
      "cell_type": "code",
      "source": [
        "#Condicionales:\n",
        "a=5\n",
        "b=6\n",
        "c=8\n",
        "d=7\n",
        "def calcular_numero_mayor(a,b):\n",
        "  if(a!=b or c>=d and b==d):\n",
        "    print(\"verdadero\")\n",
        "  else:\n",
        "    print(\"falso\")\n",
        "\n",
        "\n",
        "if(a>10):\n",
        "  print(\"la variable es: \",a)\n",
        "if(b>5):\n"
      ],
      "metadata": {
        "colab": {
          "base_uri": "https://localhost:8080/"
        },
        "id": "Oeq87XTmLBhm",
        "outputId": "55121522-ca1e-4b91-9319-7b0c1d1291e2"
      },
      "execution_count": null,
      "outputs": [
        {
          "output_type": "stream",
          "name": "stdout",
          "text": [
            "verdadero\n"
          ]
        }
      ]
    },
    {
      "cell_type": "code",
      "source": [
        "#Area rectángulo\n",
        "\n",
        "base=int(input())\n",
        "altura=int(input())\n",
        "\n",
        "def calcular_area_rectangulo(base_parametro, altura_parametro):\n",
        "  area=base_parametro*altura_parametro\n",
        "  return area\n",
        "print(\"el resultado es: \", calcular_area_rectangulo(base, altura))\n",
        "\n",
        "\n"
      ],
      "metadata": {
        "colab": {
          "base_uri": "https://localhost:8080/"
        },
        "id": "TRdc8xyNCVD-",
        "outputId": "b5e317a4-8a8a-4cdc-e1b0-ba05ab205583"
      },
      "execution_count": null,
      "outputs": [
        {
          "output_type": "stream",
          "name": "stdout",
          "text": [
            "5\n",
            "10\n",
            "el resultado es:  50\n"
          ]
        }
      ]
    },
    {
      "cell_type": "code",
      "source": [
        "#Mostrar nombre y edad:\n",
        "\n",
        "nombre_arg=input()\n",
        "edad_arg=int(input())\n",
        "\n",
        "def mostrar_datos(nombre, edad):\n",
        "  respuesta=nombre+\" \"+str(edad)\n",
        "  return respuesta\n",
        "\n",
        "print(mostrar_datos(nombre_arg, edad_arg))\n"
      ],
      "metadata": {
        "colab": {
          "base_uri": "https://localhost:8080/"
        },
        "id": "HZDO1khyGWA3",
        "outputId": "68d28c31-c655-4e07-d862-d9aa2533fa96"
      },
      "execution_count": null,
      "outputs": [
        {
          "output_type": "stream",
          "name": "stdout",
          "text": [
            "Daniel\n",
            "28\n",
            "Daniel 28\n"
          ]
        }
      ]
    },
    {
      "cell_type": "code",
      "source": [
        "def sumados_numeros(numero_1, numero_2):\n",
        "  suma = numero_1 + numero_2\n",
        "  cuadrado = suma ** 2\n",
        "  return cuadrado\n",
        "\n",
        "print(\"Por favor digite primer número\")\n",
        "numero_1_usuario=int(input())\n",
        "print(\"Por favor digite segundo número\")\n",
        "numero_2_usuario=int(input())\n",
        "\n",
        "print(\"El retorno de los cuadrados sumados es: \" + str(sumados_numeros(numero_1_usuario, numero_2_usuario)))\n",
        "\n",
        "\n",
        "def elevar_cuadrado(suma):\n",
        "  resultado = suma ** 2\n",
        "  return resultado\n",
        "\n",
        "numero_1_usuario=int(input())\n",
        "numero_2_usuario=int(input())\n",
        "suma_op=numero_1_usuario+numero_2_usuario\n",
        "print(elevar_cuadrado(suma_op))\n",
        "\n"
      ],
      "metadata": {
        "colab": {
          "base_uri": "https://localhost:8080/"
        },
        "id": "yx37E7Kc6VIH",
        "outputId": "c199c2c3-e1e2-4f44-b982-c4ca9bff0d1f"
      },
      "execution_count": null,
      "outputs": [
        {
          "output_type": "stream",
          "name": "stdout",
          "text": [
            "5\n",
            "5\n",
            "100\n"
          ]
        }
      ]
    },
    {
      "cell_type": "markdown",
      "source": [
        "Clase 27 de abril de 2022 **Funciones**"
      ],
      "metadata": {
        "id": "kK0kSA9R0oKK"
      }
    },
    {
      "cell_type": "code",
      "source": [
        "def sumarle_1(numero):\n",
        "  numero_resultado=numero+1\n",
        "  return numero_resultado\n",
        "\n",
        "def calcular_cuadrado(x):\n",
        "  cuadrado=x**2\n",
        "  return cuadrado\n",
        "\n",
        "def saludar(nombre):\n",
        "  saludo = \"Hola \"+nombre\n",
        "  return saludo\n",
        "\n",
        "#resultado_funcion=sumarle_1(5)\n",
        "print(sumarle_1(5))\n",
        "variable_entrada=6\n",
        "nombre_persona=\"Daniel\"\n",
        "print(calcular_cuadrado(variable_entrada))\n",
        "print(saludar(nombre_persona))\n",
        "\n",
        "\n",
        "#Area circulo\n",
        "import math\n",
        "def area_circulo(r):\n",
        "  area = math.pi * r ** 2\n",
        "  return area\n",
        "print(area_circulo(2))\n",
        "\n",
        "\n",
        "a=5\n",
        "a=5/2\n",
        "print(a)\n"
      ],
      "metadata": {
        "colab": {
          "base_uri": "https://localhost:8080/"
        },
        "id": "9JXM-_1J0nLb",
        "outputId": "26d32ef3-16a9-4cbc-d287-428705d6f548"
      },
      "execution_count": null,
      "outputs": [
        {
          "output_type": "stream",
          "name": "stdout",
          "text": [
            "6\n",
            "36\n",
            "Hola Daniel\n",
            "12.566370614359172\n",
            "2.5\n"
          ]
        }
      ]
    },
    {
      "cell_type": "markdown",
      "source": [
        ""
      ],
      "metadata": {
        "id": "tfkcthYTzO6v"
      }
    },
    {
      "cell_type": "markdown",
      "source": [
        "Clase 26 de abril de 2022 **Tipos de datos parte 2**"
      ],
      "metadata": {
        "id": "pcUEYQqUlbi3"
      }
    },
    {
      "cell_type": "code",
      "source": [
        "m1=10\n",
        "m2=5\n",
        "r=7\n",
        "G=6.67384E-11\n",
        "F = G*((m1*m2)/(r**2))\n",
        "#print(F)\n",
        "\n",
        "\n",
        "#Operadores lógicos\n",
        "x=True\n",
        "y=not x\n",
        "print(x)\n",
        "x=not y\n",
        "x=y\n",
        "print(x)\n",
        "#Exp. log AND\n",
        "a=False\n",
        "b=False\n",
        "if(a and b):\n",
        "  sdkjksdj\n",
        "\n",
        "\n",
        "#Exp. log OR\n",
        "a=False\n",
        "b=False\n",
        "if(a or b):\n",
        "  sdkjksdj\n",
        "\n",
        "\n",
        "#Igualdad\n",
        "a=True\n",
        "A=False\n",
        "i=5\n",
        "j=5\n",
        "k=\"Hola\"\n",
        "l=\"hola\"\n",
        "if(k == l):\n",
        "  sdkjksdj\n",
        "\n",
        "\n",
        "#diferente\n",
        "a=True\n",
        "A=False\n",
        "i=5\n",
        "j=5\n",
        "k=\"Hola\"\n",
        "l=\"hola\"\n",
        "if(k != l):\n",
        "  sdkjksdj"
      ],
      "metadata": {
        "colab": {
          "base_uri": "https://localhost:8080/"
        },
        "id": "F0Dm8l3hlZYM",
        "outputId": "18fbe4bd-598f-4eaf-975f-10ee1f55cb69"
      },
      "execution_count": null,
      "outputs": [
        {
          "output_type": "stream",
          "name": "stdout",
          "text": [
            "True\n",
            "False\n"
          ]
        }
      ]
    },
    {
      "cell_type": "code",
      "source": [
        "#Prioridad operadores\n",
        "a= -(42) // 6 + 7 * 3 - 39\n",
        "#7 + 21 - 39\n",
        "#28-39\n",
        "#-11\n",
        "print(a)"
      ],
      "metadata": {
        "colab": {
          "base_uri": "https://localhost:8080/"
        },
        "id": "6z05ZM4V3HIj",
        "outputId": "d4c4e010-1191-4b71-c826-f5d49b44bf88"
      },
      "execution_count": null,
      "outputs": [
        {
          "output_type": "stream",
          "name": "stdout",
          "text": [
            "-30\n"
          ]
        }
      ]
    },
    {
      "cell_type": "markdown",
      "source": [
        "Clase 25 de abril de 2022\n",
        "**Tipos de datos**"
      ],
      "metadata": {
        "id": "jn6fWKsQil9d"
      }
    },
    {
      "cell_type": "code",
      "source": [
        "#Variables enteras:\n",
        "i=0\n",
        "variable_principal=10\n",
        "j=-8\n",
        "print(i)\n",
        "\n",
        "#Variables reales:\n",
        "k=1.8\n",
        "gravedad=9.8\n",
        "l=-0.21457\n",
        "print(gravedad)\n",
        "\n",
        "#Variables booleanas\n",
        "es_mayor=True\n",
        "es_igual=False\n",
        "a=True\n",
        "print(es_mayor)\n",
        "\n",
        "#Variables caracteres:\n",
        "caracter1=\"a\"\n",
        "caracter2='a'\n",
        "caracter_3=\"%\"\n",
        "print(caracter_3)\n",
        "\n",
        "#Variables string (texto):\n",
        "string_1=\"hola mundo\"\n",
        "string_2=\"mi primer string\"\n",
        "str_3=\"soy un string pequeño pero .....\"\n",
        "print(str_3)\n"
      ],
      "metadata": {
        "colab": {
          "base_uri": "https://localhost:8080/"
        },
        "id": "UWbKZQHNKp98",
        "outputId": "644170f5-522d-4263-9864-900d058097e0"
      },
      "execution_count": null,
      "outputs": [
        {
          "output_type": "stream",
          "name": "stdout",
          "text": [
            "0\n",
            "9.8\n",
            "True\n",
            "%\n",
            "soy un string pequeño pero .....\n"
          ]
        }
      ]
    },
    {
      "cell_type": "markdown",
      "source": [
        "Clase 25 de abril de 2022\n",
        "**Op. asignación**"
      ],
      "metadata": {
        "id": "JTxrovfstNFf"
      }
    },
    {
      "cell_type": "code",
      "source": [
        "KAPPA: float = 9E+9\n",
        "def ley_coulomb(Q1, Q2, r):\n",
        "  modulo = KAPPA * Q1 * Q2 / r ** 2\n",
        "  return modulo\n",
        "carga1 = float(input(\"Carga 1: \"))\n",
        "carga2 = float(input(\"Carga 2: \"))\n",
        "distancia = float(input(\"Distancia entre cargas: \"))\n",
        "print(\"El m\u0013odulo de la fuerza es:\", end = \" \")\n",
        "print(ley_coulomb(carga1, carga2, distancia))\n"
      ],
      "metadata": {
        "colab": {
          "base_uri": "https://localhost:8080/"
        },
        "id": "udK-hyyMeTmF",
        "outputId": "f67eb2e3-091a-47b2-e3c7-6aa286272b7e"
      },
      "execution_count": null,
      "outputs": [
        {
          "output_type": "stream",
          "name": "stdout",
          "text": [
            "Carga 1: 2\n",
            "Carga 2: 5\n",
            "Distancia entre cargas: 5\n",
            "El m\u0013odulo de la fuerza es: 3600000000.0\n"
          ]
        }
      ]
    },
    {
      "cell_type": "code",
      "source": [
        ""
      ],
      "metadata": {
        "colab": {
          "base_uri": "https://localhost:8080/"
        },
        "id": "dANXZrATjlph",
        "outputId": "107a01d8-7136-4dde-8ab2-b1b143b6f01f"
      },
      "execution_count": null,
      "outputs": [
        {
          "output_type": "execute_result",
          "data": {
            "text/plain": [
              "False"
            ]
          },
          "metadata": {},
          "execution_count": 22
        }
      ]
    },
    {
      "cell_type": "code",
      "source": [
        ""
      ],
      "metadata": {
        "id": "OTC456OotTeC"
      },
      "execution_count": null,
      "outputs": []
    },
    {
      "cell_type": "code",
      "source": [
        ""
      ],
      "metadata": {
        "id": "FWtCEoiktTgO"
      },
      "execution_count": null,
      "outputs": []
    },
    {
      "cell_type": "code",
      "source": [
        ""
      ],
      "metadata": {
        "id": "PrUB78LitTi5"
      },
      "execution_count": null,
      "outputs": []
    },
    {
      "cell_type": "code",
      "source": [
        "from IPython.display import YouTubeVideo\n",
        "\n",
        "YouTubeVideo(\"6iOlB0QLy84\")\n"
      ],
      "metadata": {
        "colab": {
          "base_uri": "https://localhost:8080/",
          "height": 321
        },
        "id": "s2JjDUT86D09",
        "outputId": "14b97185-c139-49ef-974c-1855c0705720"
      },
      "execution_count": null,
      "outputs": [
        {
          "output_type": "execute_result",
          "data": {
            "text/plain": [
              "<IPython.lib.display.YouTubeVideo at 0x7fc7de1fe790>"
            ],
            "text/html": [
              "\n",
              "        <iframe\n",
              "            width=\"400\"\n",
              "            height=\"300\"\n",
              "            src=\"https://www.youtube.com/embed/6iOlB0QLy84\"\n",
              "            frameborder=\"0\"\n",
              "            allowfullscreen\n",
              "        ></iframe>\n",
              "        "
            ],
            "image/jpeg": "[encoded data removed]"
          },
          "metadata": {},
          "execution_count": 13
        }
      ]
    },
    {
      "cell_type": "code",
      "source": [
        "import random # se importa la librería de python random\n",
        "\n",
        "\n",
        "j:int=10\n",
        "sujetos = [\"bebé\", \" princess\",\"mami\"] #se define una lista\n",
        "intenciones =[\"yo quiero\",\"yo puedo\",\"yo vengo a\",\"voy a\"]\n",
        "verbos = [\"encendelte\",\"amalte\",\"ligal\",\"jugal\"]\n",
        "advs =[\"suave\",\"lento\",\"lápido\",\"fuelte\"]\n",
        "complementos_uno = [\"hasta que salga el sol\",\"toda la noche\", \n",
        "                     \"hasta el amanecer\",\"todo el día\"]\n",
        "complementos_dos = [\"sin anestesia\",\"sin compromiso\",\n",
        "                     \"feis to feis\", \"sin miedo\"]\n",
        "\n",
        "\n",
        "sujeto_seleccionado = random.choice(sujetos) \n",
        "#se utiliza la librería para seleccionar un elemento al azar de la lista sujetos\n",
        "intencion_seleccionada = random.choice(intenciones) \n",
        "verbo_seleccionado = random.choice(verbos)\n",
        "adv_seleccionado=random.choice(advs)\n",
        "compl1s_seleccionado = random.choice(complementos_uno)\n",
        "compl2s_seleccionado = random.choice(complementos_dos)\n",
        "\n",
        "print(j)\n",
        "\n",
        "print(\"letra generada: \"+ sujeto_seleccionado + \" \"\n",
        "+ intencion_seleccionada + \" \" + verbo_seleccionado + \" \"\n",
        "+ adv_seleccionado + \" \"+ compl1s_seleccionado + \" \"\n",
        "+ compl2s_seleccionado) # se imprime la canción"
      ],
      "metadata": {
        "colab": {
          "base_uri": "https://localhost:8080/"
        },
        "id": "0bHv9FUQ_B2m",
        "outputId": "fddf56b8-03bf-4230-aa47-377a11696096"
      },
      "execution_count": null,
      "outputs": [
        {
          "output_type": "stream",
          "name": "stdout",
          "text": [
            "10\n",
            "letra generada:  princess yo puedo jugal suave hasta el amanecer sin compromiso\n"
          ]
        }
      ]
    },
    {
      "cell_type": "code",
      "source": [
        "#Hola grupo 36"
      ],
      "metadata": {
        "id": "3owzHsLx_ZlR"
      },
      "execution_count": null,
      "outputs": []
    },
    {
      "cell_type": "code",
      "source": [
        "print(\"Variable 1:\")\n",
        "variable_1 = int(input())\n",
        "\n",
        "print(\"Variable 2:\")\n",
        "variable_2 = int(input())\n",
        "\n",
        "variable_3 = variable_1 + variable_2\n",
        "\n",
        "print(\"El resultado de la suma es: \")\n",
        "print(variable_3)"
      ],
      "metadata": {
        "colab": {
          "base_uri": "https://localhost:8080/"
        },
        "id": "3d53Ztk30zvF",
        "outputId": "9b853e97-54cf-4e6f-9182-114a545687d8"
      },
      "execution_count": null,
      "outputs": [
        {
          "output_type": "stream",
          "name": "stdout",
          "text": [
            "Variable 1:\n",
            "15\n",
            "Variable 2:\n",
            "16\n",
            "El resultado de la suma es: \n",
            "31\n"
          ]
        }
      ]
    }
  ]
}